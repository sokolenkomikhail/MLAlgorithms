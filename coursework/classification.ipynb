{
 "cells": [
  {
   "cell_type": "code",
   "execution_count": 1,
   "metadata": {},
   "outputs": [],
   "source": [
    "import numpy as np\n",
    "import pandas as pd"
   ]
  },
  {
   "cell_type": "markdown",
   "metadata": {},
   "source": [
    "### Загрузка данных"
   ]
  },
  {
   "cell_type": "code",
   "execution_count": 2,
   "metadata": {},
   "outputs": [],
   "source": [
    "train_df = pd.read_csv('./classification_data/train.csv')\n",
    "test_df = pd.read_csv('./classification_data/test.csv')"
   ]
  },
  {
   "cell_type": "code",
   "execution_count": 3,
   "metadata": {},
   "outputs": [
    {
     "name": "stdout",
     "output_type": "stream",
     "text": [
      "<class 'pandas.core.frame.DataFrame'>\n",
      "RangeIndex: 10000 entries, 0 to 9999\n",
      "Data columns (total 13 columns):\n",
      " #   Column               Non-Null Count  Dtype  \n",
      "---  ------               --------------  -----  \n",
      " 0   Id                   10000 non-null  int64  \n",
      " 1   age                  10000 non-null  float64\n",
      " 2   years_of_experience  10000 non-null  float64\n",
      " 3   lesson_price         10000 non-null  float64\n",
      " 4   qualification        10000 non-null  float64\n",
      " 5   physics              10000 non-null  float64\n",
      " 6   chemistry            10000 non-null  float64\n",
      " 7   biology              10000 non-null  float64\n",
      " 8   english              10000 non-null  float64\n",
      " 9   geography            10000 non-null  float64\n",
      " 10  history              10000 non-null  float64\n",
      " 11  mean_exam_points     10000 non-null  float64\n",
      " 12  choose               10000 non-null  int64  \n",
      "dtypes: float64(11), int64(2)\n",
      "memory usage: 1015.8 KB\n"
     ]
    }
   ],
   "source": [
    "train_df.info()"
   ]
  },
  {
   "cell_type": "code",
   "execution_count": 4,
   "metadata": {},
   "outputs": [
    {
     "data": {
      "text/html": [
       "<div>\n",
       "<style scoped>\n",
       "    .dataframe tbody tr th:only-of-type {\n",
       "        vertical-align: middle;\n",
       "    }\n",
       "\n",
       "    .dataframe tbody tr th {\n",
       "        vertical-align: top;\n",
       "    }\n",
       "\n",
       "    .dataframe thead th {\n",
       "        text-align: right;\n",
       "    }\n",
       "</style>\n",
       "<table border=\"1\" class=\"dataframe\">\n",
       "  <thead>\n",
       "    <tr style=\"text-align: right;\">\n",
       "      <th></th>\n",
       "      <th>Id</th>\n",
       "      <th>age</th>\n",
       "      <th>years_of_experience</th>\n",
       "      <th>lesson_price</th>\n",
       "      <th>qualification</th>\n",
       "      <th>physics</th>\n",
       "      <th>chemistry</th>\n",
       "      <th>biology</th>\n",
       "      <th>english</th>\n",
       "      <th>geography</th>\n",
       "      <th>history</th>\n",
       "      <th>mean_exam_points</th>\n",
       "      <th>choose</th>\n",
       "    </tr>\n",
       "  </thead>\n",
       "  <tbody>\n",
       "    <tr>\n",
       "      <th>0</th>\n",
       "      <td>0</td>\n",
       "      <td>35.0</td>\n",
       "      <td>0.0</td>\n",
       "      <td>2150.0</td>\n",
       "      <td>2.0</td>\n",
       "      <td>0.0</td>\n",
       "      <td>0.0</td>\n",
       "      <td>0.0</td>\n",
       "      <td>0.0</td>\n",
       "      <td>0.0</td>\n",
       "      <td>0.0</td>\n",
       "      <td>74.0</td>\n",
       "      <td>0</td>\n",
       "    </tr>\n",
       "    <tr>\n",
       "      <th>1</th>\n",
       "      <td>1</td>\n",
       "      <td>52.0</td>\n",
       "      <td>2.0</td>\n",
       "      <td>1250.0</td>\n",
       "      <td>2.0</td>\n",
       "      <td>1.0</td>\n",
       "      <td>0.0</td>\n",
       "      <td>1.0</td>\n",
       "      <td>0.0</td>\n",
       "      <td>0.0</td>\n",
       "      <td>1.0</td>\n",
       "      <td>57.0</td>\n",
       "      <td>1</td>\n",
       "    </tr>\n",
       "    <tr>\n",
       "      <th>2</th>\n",
       "      <td>2</td>\n",
       "      <td>29.0</td>\n",
       "      <td>3.0</td>\n",
       "      <td>1750.0</td>\n",
       "      <td>1.0</td>\n",
       "      <td>1.0</td>\n",
       "      <td>0.0</td>\n",
       "      <td>0.0</td>\n",
       "      <td>0.0</td>\n",
       "      <td>0.0</td>\n",
       "      <td>0.0</td>\n",
       "      <td>66.0</td>\n",
       "      <td>0</td>\n",
       "    </tr>\n",
       "    <tr>\n",
       "      <th>3</th>\n",
       "      <td>3</td>\n",
       "      <td>33.0</td>\n",
       "      <td>3.0</td>\n",
       "      <td>1050.0</td>\n",
       "      <td>1.0</td>\n",
       "      <td>0.0</td>\n",
       "      <td>0.0</td>\n",
       "      <td>0.0</td>\n",
       "      <td>0.0</td>\n",
       "      <td>0.0</td>\n",
       "      <td>0.0</td>\n",
       "      <td>66.0</td>\n",
       "      <td>1</td>\n",
       "    </tr>\n",
       "    <tr>\n",
       "      <th>4</th>\n",
       "      <td>4</td>\n",
       "      <td>46.0</td>\n",
       "      <td>3.0</td>\n",
       "      <td>2250.0</td>\n",
       "      <td>2.0</td>\n",
       "      <td>1.0</td>\n",
       "      <td>0.0</td>\n",
       "      <td>0.0</td>\n",
       "      <td>0.0</td>\n",
       "      <td>0.0</td>\n",
       "      <td>0.0</td>\n",
       "      <td>73.0</td>\n",
       "      <td>0</td>\n",
       "    </tr>\n",
       "  </tbody>\n",
       "</table>\n",
       "</div>"
      ],
      "text/plain": [
       "   Id   age  years_of_experience  lesson_price  qualification  physics  \\\n",
       "0   0  35.0                  0.0        2150.0            2.0      0.0   \n",
       "1   1  52.0                  2.0        1250.0            2.0      1.0   \n",
       "2   2  29.0                  3.0        1750.0            1.0      1.0   \n",
       "3   3  33.0                  3.0        1050.0            1.0      0.0   \n",
       "4   4  46.0                  3.0        2250.0            2.0      1.0   \n",
       "\n",
       "   chemistry  biology  english  geography  history  mean_exam_points  choose  \n",
       "0        0.0      0.0      0.0        0.0      0.0              74.0       0  \n",
       "1        0.0      1.0      0.0        0.0      1.0              57.0       1  \n",
       "2        0.0      0.0      0.0        0.0      0.0              66.0       0  \n",
       "3        0.0      0.0      0.0        0.0      0.0              66.0       1  \n",
       "4        0.0      0.0      0.0        0.0      0.0              73.0       0  "
      ]
     },
     "execution_count": 4,
     "metadata": {},
     "output_type": "execute_result"
    }
   ],
   "source": [
    "train_df.head(5)"
   ]
  },
  {
   "cell_type": "markdown",
   "metadata": {},
   "source": [
    "Целевая переменная - 'choose'\n",
    "\n",
    "Посмотрим на нее"
   ]
  },
  {
   "cell_type": "code",
   "execution_count": 5,
   "metadata": {},
   "outputs": [
    {
     "data": {
      "text/plain": [
       "0    8891\n",
       "1    1109\n",
       "Name: choose, dtype: int64"
      ]
     },
     "execution_count": 5,
     "metadata": {},
     "output_type": "execute_result"
    }
   ],
   "source": [
    "train_df['choose'].value_counts()"
   ]
  },
  {
   "cell_type": "markdown",
   "metadata": {},
   "source": [
    "Как видно, классы несбалансированы. Это может доставить проблемы"
   ]
  },
  {
   "cell_type": "markdown",
   "metadata": {},
   "source": [
    "Вынесем признаки, на которых будет обучаться модель в отдельный список"
   ]
  },
  {
   "cell_type": "code",
   "execution_count": 6,
   "metadata": {},
   "outputs": [],
   "source": [
    "base_features = train_df.columns.drop(['Id', 'choose']).tolist()"
   ]
  },
  {
   "cell_type": "code",
   "execution_count": 7,
   "metadata": {},
   "outputs": [
    {
     "data": {
      "text/html": [
       "<div>\n",
       "<style scoped>\n",
       "    .dataframe tbody tr th:only-of-type {\n",
       "        vertical-align: middle;\n",
       "    }\n",
       "\n",
       "    .dataframe tbody tr th {\n",
       "        vertical-align: top;\n",
       "    }\n",
       "\n",
       "    .dataframe thead th {\n",
       "        text-align: right;\n",
       "    }\n",
       "</style>\n",
       "<table border=\"1\" class=\"dataframe\">\n",
       "  <thead>\n",
       "    <tr style=\"text-align: right;\">\n",
       "      <th></th>\n",
       "      <th>age</th>\n",
       "      <th>years_of_experience</th>\n",
       "      <th>lesson_price</th>\n",
       "      <th>qualification</th>\n",
       "      <th>physics</th>\n",
       "      <th>chemistry</th>\n",
       "      <th>biology</th>\n",
       "      <th>english</th>\n",
       "      <th>geography</th>\n",
       "      <th>history</th>\n",
       "      <th>mean_exam_points</th>\n",
       "    </tr>\n",
       "  </thead>\n",
       "  <tbody>\n",
       "    <tr>\n",
       "      <th>count</th>\n",
       "      <td>10000.000000</td>\n",
       "      <td>10000.000000</td>\n",
       "      <td>10000.000000</td>\n",
       "      <td>10000.000000</td>\n",
       "      <td>10000.00000</td>\n",
       "      <td>10000.000000</td>\n",
       "      <td>10000.000000</td>\n",
       "      <td>10000.000000</td>\n",
       "      <td>10000.00000</td>\n",
       "      <td>10000.000000</td>\n",
       "      <td>10000.000000</td>\n",
       "    </tr>\n",
       "    <tr>\n",
       "      <th>mean</th>\n",
       "      <td>45.800900</td>\n",
       "      <td>1.974800</td>\n",
       "      <td>1702.440000</td>\n",
       "      <td>1.724300</td>\n",
       "      <td>0.37060</td>\n",
       "      <td>0.121500</td>\n",
       "      <td>0.117200</td>\n",
       "      <td>0.059100</td>\n",
       "      <td>0.02770</td>\n",
       "      <td>0.018000</td>\n",
       "      <td>64.435200</td>\n",
       "    </tr>\n",
       "    <tr>\n",
       "      <th>std</th>\n",
       "      <td>8.030274</td>\n",
       "      <td>1.766883</td>\n",
       "      <td>523.789062</td>\n",
       "      <td>0.798845</td>\n",
       "      <td>0.48299</td>\n",
       "      <td>0.326724</td>\n",
       "      <td>0.321675</td>\n",
       "      <td>0.235824</td>\n",
       "      <td>0.16412</td>\n",
       "      <td>0.132958</td>\n",
       "      <td>13.595024</td>\n",
       "    </tr>\n",
       "    <tr>\n",
       "      <th>min</th>\n",
       "      <td>23.000000</td>\n",
       "      <td>0.000000</td>\n",
       "      <td>200.000000</td>\n",
       "      <td>1.000000</td>\n",
       "      <td>0.00000</td>\n",
       "      <td>0.000000</td>\n",
       "      <td>0.000000</td>\n",
       "      <td>0.000000</td>\n",
       "      <td>0.00000</td>\n",
       "      <td>0.000000</td>\n",
       "      <td>33.000000</td>\n",
       "    </tr>\n",
       "    <tr>\n",
       "      <th>25%</th>\n",
       "      <td>40.000000</td>\n",
       "      <td>0.000000</td>\n",
       "      <td>1300.000000</td>\n",
       "      <td>1.000000</td>\n",
       "      <td>0.00000</td>\n",
       "      <td>0.000000</td>\n",
       "      <td>0.000000</td>\n",
       "      <td>0.000000</td>\n",
       "      <td>0.00000</td>\n",
       "      <td>0.000000</td>\n",
       "      <td>55.000000</td>\n",
       "    </tr>\n",
       "    <tr>\n",
       "      <th>50%</th>\n",
       "      <td>46.000000</td>\n",
       "      <td>2.000000</td>\n",
       "      <td>1550.000000</td>\n",
       "      <td>2.000000</td>\n",
       "      <td>0.00000</td>\n",
       "      <td>0.000000</td>\n",
       "      <td>0.000000</td>\n",
       "      <td>0.000000</td>\n",
       "      <td>0.00000</td>\n",
       "      <td>0.000000</td>\n",
       "      <td>63.000000</td>\n",
       "    </tr>\n",
       "    <tr>\n",
       "      <th>75%</th>\n",
       "      <td>51.000000</td>\n",
       "      <td>3.000000</td>\n",
       "      <td>2150.000000</td>\n",
       "      <td>2.000000</td>\n",
       "      <td>1.00000</td>\n",
       "      <td>0.000000</td>\n",
       "      <td>0.000000</td>\n",
       "      <td>0.000000</td>\n",
       "      <td>0.00000</td>\n",
       "      <td>0.000000</td>\n",
       "      <td>74.000000</td>\n",
       "    </tr>\n",
       "    <tr>\n",
       "      <th>max</th>\n",
       "      <td>68.000000</td>\n",
       "      <td>9.000000</td>\n",
       "      <td>3950.000000</td>\n",
       "      <td>4.000000</td>\n",
       "      <td>1.00000</td>\n",
       "      <td>1.000000</td>\n",
       "      <td>1.000000</td>\n",
       "      <td>1.000000</td>\n",
       "      <td>1.00000</td>\n",
       "      <td>1.000000</td>\n",
       "      <td>100.000000</td>\n",
       "    </tr>\n",
       "  </tbody>\n",
       "</table>\n",
       "</div>"
      ],
      "text/plain": [
       "                age  years_of_experience  lesson_price  qualification  \\\n",
       "count  10000.000000         10000.000000  10000.000000   10000.000000   \n",
       "mean      45.800900             1.974800   1702.440000       1.724300   \n",
       "std        8.030274             1.766883    523.789062       0.798845   \n",
       "min       23.000000             0.000000    200.000000       1.000000   \n",
       "25%       40.000000             0.000000   1300.000000       1.000000   \n",
       "50%       46.000000             2.000000   1550.000000       2.000000   \n",
       "75%       51.000000             3.000000   2150.000000       2.000000   \n",
       "max       68.000000             9.000000   3950.000000       4.000000   \n",
       "\n",
       "           physics     chemistry       biology       english    geography  \\\n",
       "count  10000.00000  10000.000000  10000.000000  10000.000000  10000.00000   \n",
       "mean       0.37060      0.121500      0.117200      0.059100      0.02770   \n",
       "std        0.48299      0.326724      0.321675      0.235824      0.16412   \n",
       "min        0.00000      0.000000      0.000000      0.000000      0.00000   \n",
       "25%        0.00000      0.000000      0.000000      0.000000      0.00000   \n",
       "50%        0.00000      0.000000      0.000000      0.000000      0.00000   \n",
       "75%        1.00000      0.000000      0.000000      0.000000      0.00000   \n",
       "max        1.00000      1.000000      1.000000      1.000000      1.00000   \n",
       "\n",
       "            history  mean_exam_points  \n",
       "count  10000.000000      10000.000000  \n",
       "mean       0.018000         64.435200  \n",
       "std        0.132958         13.595024  \n",
       "min        0.000000         33.000000  \n",
       "25%        0.000000         55.000000  \n",
       "50%        0.000000         63.000000  \n",
       "75%        0.000000         74.000000  \n",
       "max        1.000000        100.000000  "
      ]
     },
     "execution_count": 7,
     "metadata": {},
     "output_type": "execute_result"
    }
   ],
   "source": [
    "train_df[base_features].describe()"
   ]
  },
  {
   "cell_type": "markdown",
   "metadata": {},
   "source": [
    "В качестве модели будем использовать Логистическую регрессию. Необходимо отмасштабировать ряд признаков"
   ]
  },
  {
   "cell_type": "markdown",
   "metadata": {},
   "source": [
    "### Подготовка данных"
   ]
  },
  {
   "cell_type": "markdown",
   "metadata": {},
   "source": [
    "Классы для масштабирования признаков"
   ]
  },
  {
   "cell_type": "code",
   "execution_count": 8,
   "metadata": {},
   "outputs": [],
   "source": [
    "class Standard:\n",
    "    '''StandardScaler'''\n",
    "    def __init__(self):\n",
    "        self.mean = None\n",
    "        self.std = None\n",
    "    \n",
    "    def _std_scale(self, X, fit=False):\n",
    "        if fit:\n",
    "            self.mean, self.std = X.mean(axis=0), X.std(axis=0)\n",
    "            \n",
    "        mean, std = self.mean, self.std\n",
    "        \n",
    "        if mean is None or std is None:\n",
    "            mean, std = X.mean(axis=0), X.std(axis=0)\n",
    "            \n",
    "        return (X - mean)/std\n",
    "    \n",
    "    def fit_transform(self, X):\n",
    "        X = X.values\n",
    "        X = self._std_scale(X, fit=True)\n",
    "        \n",
    "        return X\n",
    "        \n",
    "    def transform(self, X):\n",
    "        X = X.values\n",
    "        X = self._std_scale(X)\n",
    "        \n",
    "        return X    \n",
    "    \n",
    "    \n",
    "class MinMax:\n",
    "    '''MinMaxScaler'''\n",
    "    def __init__(self):\n",
    "        self.Min = None\n",
    "        self.Max = None\n",
    "    \n",
    "    def _Min_Max_scale(self, X, fit=False):\n",
    "        if fit:\n",
    "            self.Min, self.Max = X.min(axis=0), X.max(axis=0)\n",
    "            \n",
    "        Min, Max = self.Min, self.Max\n",
    "        \n",
    "        if Min is None or Max is None:\n",
    "            Min, Max = X.min(axis=0), X.max(axis=0)\n",
    "            \n",
    "        return (X - Min)/(Max - Min)\n",
    "    \n",
    "    def fit_transform(self, X):\n",
    "        X = X.values\n",
    "        X = self._Min_Max_scale(X, fit=True)\n",
    "        \n",
    "        return X\n",
    "        \n",
    "    def transform(self, X):\n",
    "        X = X.values\n",
    "        X = self._Min_Max_scale(X)\n",
    "        \n",
    "        return X    "
   ]
  },
  {
   "cell_type": "markdown",
   "metadata": {},
   "source": [
    "Разбиение выборки на обучающую и валидационную подвыборки."
   ]
  },
  {
   "cell_type": "code",
   "execution_count": 9,
   "metadata": {},
   "outputs": [],
   "source": [
    "from sklearn.model_selection import train_test_split\n",
    "\n",
    "X = train_df[base_features]\n",
    "y = train_df['choose']\n",
    "\n",
    "X_train, X_valid, y_train, y_valid = train_test_split(X, y, test_size=0.2, random_state=100)"
   ]
  },
  {
   "cell_type": "markdown",
   "metadata": {},
   "source": [
    "Масштабирование признаков. "
   ]
  },
  {
   "cell_type": "code",
   "execution_count": 10,
   "metadata": {},
   "outputs": [],
   "source": [
    "features_std = ['age', 'years_of_experience', 'lesson_price', 'qualification', 'mean_exam_points']\n",
    "\n",
    "# стандартизация\n",
    "scaler = Standard()\n",
    "\n",
    "X_train_scaled = X_train.copy()\n",
    "X_valid_scaled = X_valid.copy()\n",
    "\n",
    "X_train_scaled[features_std] = scaler.fit_transform(X_train[features_std])\n",
    "# валидационная выборка масштабируется относительно обучающей выборки\n",
    "X_valid_scaled[features_std] = scaler.transform(X_valid[features_std])"
   ]
  },
  {
   "cell_type": "code",
   "execution_count": 11,
   "metadata": {},
   "outputs": [
    {
     "data": {
      "text/html": [
       "<div>\n",
       "<style scoped>\n",
       "    .dataframe tbody tr th:only-of-type {\n",
       "        vertical-align: middle;\n",
       "    }\n",
       "\n",
       "    .dataframe tbody tr th {\n",
       "        vertical-align: top;\n",
       "    }\n",
       "\n",
       "    .dataframe thead th {\n",
       "        text-align: right;\n",
       "    }\n",
       "</style>\n",
       "<table border=\"1\" class=\"dataframe\">\n",
       "  <thead>\n",
       "    <tr style=\"text-align: right;\">\n",
       "      <th></th>\n",
       "      <th>age</th>\n",
       "      <th>years_of_experience</th>\n",
       "      <th>lesson_price</th>\n",
       "      <th>qualification</th>\n",
       "      <th>physics</th>\n",
       "      <th>chemistry</th>\n",
       "      <th>biology</th>\n",
       "      <th>english</th>\n",
       "      <th>geography</th>\n",
       "      <th>history</th>\n",
       "      <th>mean_exam_points</th>\n",
       "    </tr>\n",
       "  </thead>\n",
       "  <tbody>\n",
       "    <tr>\n",
       "      <th>8369</th>\n",
       "      <td>-0.851802</td>\n",
       "      <td>0.592699</td>\n",
       "      <td>-0.859098</td>\n",
       "      <td>-0.899539</td>\n",
       "      <td>0.0</td>\n",
       "      <td>0.0</td>\n",
       "      <td>0.0</td>\n",
       "      <td>0.0</td>\n",
       "      <td>0.0</td>\n",
       "      <td>0.0</td>\n",
       "      <td>0.335736</td>\n",
       "    </tr>\n",
       "    <tr>\n",
       "      <th>9722</th>\n",
       "      <td>0.269133</td>\n",
       "      <td>0.592699</td>\n",
       "      <td>-1.144877</td>\n",
       "      <td>-0.899539</td>\n",
       "      <td>0.0</td>\n",
       "      <td>0.0</td>\n",
       "      <td>0.0</td>\n",
       "      <td>0.0</td>\n",
       "      <td>0.0</td>\n",
       "      <td>0.0</td>\n",
       "      <td>-0.987143</td>\n",
       "    </tr>\n",
       "    <tr>\n",
       "      <th>6950</th>\n",
       "      <td>1.016424</td>\n",
       "      <td>-1.108626</td>\n",
       "      <td>-0.287541</td>\n",
       "      <td>-0.899539</td>\n",
       "      <td>0.0</td>\n",
       "      <td>0.0</td>\n",
       "      <td>1.0</td>\n",
       "      <td>0.0</td>\n",
       "      <td>0.0</td>\n",
       "      <td>0.0</td>\n",
       "      <td>-1.942555</td>\n",
       "    </tr>\n",
       "    <tr>\n",
       "      <th>1919</th>\n",
       "      <td>-2.470931</td>\n",
       "      <td>1.159807</td>\n",
       "      <td>1.427131</td>\n",
       "      <td>0.348304</td>\n",
       "      <td>1.0</td>\n",
       "      <td>0.0</td>\n",
       "      <td>0.0</td>\n",
       "      <td>0.0</td>\n",
       "      <td>0.0</td>\n",
       "      <td>0.0</td>\n",
       "      <td>0.262242</td>\n",
       "    </tr>\n",
       "    <tr>\n",
       "      <th>5713</th>\n",
       "      <td>1.514617</td>\n",
       "      <td>-0.541518</td>\n",
       "      <td>-0.478060</td>\n",
       "      <td>0.348304</td>\n",
       "      <td>0.0</td>\n",
       "      <td>0.0</td>\n",
       "      <td>0.0</td>\n",
       "      <td>0.0</td>\n",
       "      <td>0.0</td>\n",
       "      <td>0.0</td>\n",
       "      <td>-0.693170</td>\n",
       "    </tr>\n",
       "  </tbody>\n",
       "</table>\n",
       "</div>"
      ],
      "text/plain": [
       "           age  years_of_experience  lesson_price  qualification  physics  \\\n",
       "8369 -0.851802             0.592699     -0.859098      -0.899539      0.0   \n",
       "9722  0.269133             0.592699     -1.144877      -0.899539      0.0   \n",
       "6950  1.016424            -1.108626     -0.287541      -0.899539      0.0   \n",
       "1919 -2.470931             1.159807      1.427131       0.348304      1.0   \n",
       "5713  1.514617            -0.541518     -0.478060       0.348304      0.0   \n",
       "\n",
       "      chemistry  biology  english  geography  history  mean_exam_points  \n",
       "8369        0.0      0.0      0.0        0.0      0.0          0.335736  \n",
       "9722        0.0      0.0      0.0        0.0      0.0         -0.987143  \n",
       "6950        0.0      1.0      0.0        0.0      0.0         -1.942555  \n",
       "1919        0.0      0.0      0.0        0.0      0.0          0.262242  \n",
       "5713        0.0      0.0      0.0        0.0      0.0         -0.693170  "
      ]
     },
     "execution_count": 11,
     "metadata": {},
     "output_type": "execute_result"
    }
   ],
   "source": [
    "X_train_scaled.head(5)"
   ]
  },
  {
   "cell_type": "markdown",
   "metadata": {},
   "source": [
    "## Балансировка классов"
   ]
  },
  {
   "cell_type": "markdown",
   "metadata": {},
   "source": [
    "Для балансировки классов будет использоваться алгоритм SMOTE. \n",
    "\n",
    "$$ X' = X + rand(0, 1)*(X - X_k) $$\n",
    "\n",
    "Где \n",
    "\n",
    "$ X $ - исходный (оригинальный) пример\n",
    "\n",
    "$ X' $ - синтезированный пример\n",
    "\n",
    "$ rand(0, 1) $ - случайное значение от 0 до 1\n",
    "\n",
    "$ X_k $ - примеры из k-ближайших соседей (в том же классе)\n",
    "\n"
   ]
  },
  {
   "cell_type": "markdown",
   "metadata": {},
   "source": [
    "Будем брать только одного (случайного) соседа из k-ближайших. Реализуем алгоритм в коде. "
   ]
  },
  {
   "cell_type": "code",
   "execution_count": 12,
   "metadata": {},
   "outputs": [],
   "source": [
    "from scipy.stats import mode\n",
    "\n",
    "\n",
    "def self_knn(X, k):\n",
    "    '''Функция возвращает k-ближайших объектов массива для каждого наблюдения в данном массиве.'''\n",
    "    \n",
    "    # Вычисление евклидового расстояния до каждого объекта в X\n",
    "    distances = np.linalg.norm(X[:, np.newaxis] - X, axis=2, ord=2)\n",
    "    \n",
    "    # Нахождение индексов k-ближайших соседей\n",
    "    # Нулевой индекс - сам объект. \n",
    "    k_nearest_idx = np.argpartition(distances, range(k))[:, :k]\n",
    "    \n",
    "    return X[k_nearest_idx]\n",
    "\n",
    "\n",
    "def balancing(X, y, k=3):\n",
    "    '''Балансировка классов путем сэмплирования. Собственная реализация алгоритма SMOTE.\n",
    "    Генерирование синтетических данных, похожих на минорный класс'''\n",
    "    \n",
    "    # определение индексов категориальных (бинарных) признаков\n",
    "    categorical = []\n",
    "    for i in range(X.shape[1]):\n",
    "        if len(np.unique(X[:, i])) < 10:\n",
    "            categorical.append(i)\n",
    "    \n",
    "    # классы и количество наблюдений\n",
    "    classes, counts = np.unique(y, return_counts=True)\n",
    "    # определение мажорного и минорного классов\n",
    "    major_class = classes[np.argmax(counts)]\n",
    "    minor_class = classes[np.argmin(counts)]\n",
    "    # разделение данных\n",
    "    major_class_data = X[y == major_class]\n",
    "    minor_class_data = X[y == minor_class]\n",
    "    # количество наблюдений\n",
    "    major_len = major_class_data.shape[0]\n",
    "    minor_len = minor_class_data.shape[0]\n",
    "    \n",
    "    # цикл до тех пор, пока количество наблюдений минорного класса меньше количества наблюдений мажорного\n",
    "    while minor_len < major_len:\n",
    "        # исходные наблюдения, из которых будут генерироваться данные\n",
    "        origins = minor_class_data.copy()\n",
    "        # разница между мажорным и минорным классом\n",
    "        residual = major_len - minor_len\n",
    "        # если разница меньше количества наблюдений в минорном классе,\n",
    "        # то берется случайная подвыборка из минорного равная разнице\n",
    "        if residual < minor_len:\n",
    "            origins = origins[np.random.permutation(minor_len)[:residual]]\n",
    "        \n",
    "        # количество исходных наблюдений\n",
    "        n_rows = origins.shape[0]\n",
    "        \n",
    "        # k-ближайших соседей в классе для каждого исходного наблюдения\n",
    "        k_nearest = self_knn(origins, k)\n",
    "\n",
    "        # мода по категориальным (бинарным) признакам у k-ближайших\n",
    "        cat_mode = mode(k_nearest[:, :, categorical], axis=1).mode[:, 0, :]\n",
    "        \n",
    "        # случайные индексы среди k-ближайших\n",
    "        neighbor_idx = np.random.randint(k, size=n_rows)\n",
    "        \n",
    "        # к исходным добавляется произведение вектора случайных значений (от 0 до 1) \n",
    "        # на разницу между исходными и одним (случайным) из k-ближайших\n",
    "        synthetic = origins + np.random.rand(n_rows, 1) * (origins - k_nearest[range(n_rows), neighbor_idx, :])\n",
    "        # замена категориальных на моду по категориальным признакам у k-ближайших\n",
    "        synthetic[:, categorical] = cat_mode\n",
    "        \n",
    "        # объединение синтезированных данных и исходных\n",
    "        # на следующей итерации наблюдения будут отбираться так же и из сгенерированных\n",
    "        minor_class_data = np.vstack([minor_class_data, synthetic])\n",
    "\n",
    "        minor_len = minor_class_data.shape[0]\n",
    "    \n",
    "    # объединение данных мажорного и минорного классов\n",
    "    balanced_data = np.vstack([minor_class_data, major_class_data])\n",
    "    \n",
    "    # объединение меток мажорного и минорного классов\n",
    "    minor_labels, major_labels = np.ones(minor_len) * minor_class, np.ones(major_len) * major_class\n",
    "    balanced_labels = np.hstack([minor_labels, major_labels]).astype('int')\n",
    "    \n",
    "    # перемешивание данных и меток\n",
    "    shuffled_indices = np.random.permutation(balanced_labels.shape[0])\n",
    "\n",
    "    return balanced_data[shuffled_indices], balanced_labels[shuffled_indices]"
   ]
  },
  {
   "cell_type": "code",
   "execution_count": 13,
   "metadata": {},
   "outputs": [
    {
     "name": "stdout",
     "output_type": "stream",
     "text": [
      "CPU times: user 1.95 s, sys: 1.31 s, total: 3.26 s\n",
      "Wall time: 3.31 s\n"
     ]
    }
   ],
   "source": [
    "%%time\n",
    "balanced_data, balanced_labels = balancing(X_train_scaled.values, y_train.values, k=3)"
   ]
  },
  {
   "cell_type": "code",
   "execution_count": 14,
   "metadata": {},
   "outputs": [
    {
     "name": "stdout",
     "output_type": "stream",
     "text": [
      "\n",
      "До балансировки:\n",
      "\n",
      "Класс 0, Количество: 7130\n",
      "Класс 1, Количество: 870\n",
      "\n",
      "После балансировки:\n",
      "\n",
      "Класс 0, Количество: 7130\n",
      "Класс 1, Количество: 7130\n"
     ]
    }
   ],
   "source": [
    "print('\\nДо балансировки:\\n')\n",
    "for label, count in zip(*np.unique(y_train.values, return_counts=True)):\n",
    "    print(f'Класс {label}, Количество: {count}')\n",
    "    \n",
    "print('\\nПосле балансировки:\\n')\n",
    "for label, count in zip(*np.unique(balanced_labels, return_counts=True)):\n",
    "    print(f'Класс {label}, Количество: {count}')"
   ]
  },
  {
   "cell_type": "markdown",
   "metadata": {},
   "source": [
    "Классы сбалансированы."
   ]
  },
  {
   "cell_type": "markdown",
   "metadata": {},
   "source": [
    "## Модели и метрики"
   ]
  },
  {
   "cell_type": "markdown",
   "metadata": {},
   "source": [
    "Логистическая регрессия"
   ]
  },
  {
   "cell_type": "code",
   "execution_count": 15,
   "metadata": {},
   "outputs": [],
   "source": [
    "class LogRegression:\n",
    "    \n",
    "    '''Логистическая регрессия.\n",
    "    \n",
    "    max_iter - (int) количество итераций, по умолчанию 1000.\n",
    "    \n",
    "    fit_intercept - (bool) по умолчанию True.\n",
    "    \n",
    "    eta - (float) скорость обучения, по умолчанию 1.0\n",
    "    \n",
    "    l1 - (float) коэффициент регуляризации l1, по умолчанию 0.0. \n",
    "    Если значение отличное от 0 - будет применена l1 регуляризация.\n",
    "    Возможно сочетание с l2 регуляризацией (ElasticNet).\n",
    "    \n",
    "    l2 - (float) коэффициент регуляризации l1, по умолчанию 0.0.\n",
    "    Если значение отличное от 0 - будет применена l2 регуляризация.\n",
    "    Возможно сочетание с l1 регуляризацией (ElasticNet).\n",
    "    '''\n",
    "    \n",
    "    def __init__(self, max_iter=1000, fit_intercept=True, eta=1.0, l1=0.0, l2=0.0):\n",
    "        self.max_iter = max_iter\n",
    "        self.fit_intercept = fit_intercept\n",
    "        self.eta = eta\n",
    "        self.l1 = l1\n",
    "        self.l2 = l2\n",
    "        \n",
    "    def _sigmoid(self, z):\n",
    "        return 1/(1 + np.exp(-z))\n",
    "    \n",
    "    def _calc_pred(self, X, threshold=0.5):\n",
    "        y_pred = self._sigmoid(X @ self.coef_)\n",
    "        y_pred = (y_pred > threshold).astype('int')\n",
    "        return y_pred\n",
    "    \n",
    "    def fit(self, X, y):\n",
    "        n = X.shape[0]\n",
    "        \n",
    "        if self.fit_intercept:\n",
    "            X = np.hstack([np.ones((n, 1)), X])\n",
    "        \n",
    "        W = np.zeros(X.shape[1])\n",
    "        \n",
    "        for _ in range(self.max_iter):\n",
    "            y_pred = self._sigmoid(X @ W)\n",
    "            # градиент весов\n",
    "            dQ = 2/n * X.T @ (y_pred - y)\n",
    "            # градиент регуляризации\n",
    "            dReg = self.l1 * np.sign(W) + self.l2 * W\n",
    "            \n",
    "            # оптимизация весов\n",
    "            W -= self.eta * dQ + dReg\n",
    "            \n",
    "        self.coef_ = W\n",
    "            \n",
    "        return self\n",
    "    \n",
    "    def predict(self, X, threshold=0.5):\n",
    "        if self.fit_intercept:\n",
    "            X = np.hstack([np.ones((X.shape[0], 1)), X])\n",
    "            \n",
    "        y_pred = self._calc_pred(X, threshold=threshold)\n",
    "        \n",
    "        return y_pred"
   ]
  },
  {
   "cell_type": "markdown",
   "metadata": {},
   "source": [
    "Подбор лучших параметров модели"
   ]
  },
  {
   "cell_type": "code",
   "execution_count": 16,
   "metadata": {},
   "outputs": [],
   "source": [
    "import numpy as np\n",
    "from itertools import product\n",
    "\n",
    "\n",
    "class BestParamsCV:\n",
    "    \n",
    "    '''Самописный аналог GridSearchCV.\n",
    "    \n",
    "    При инициализации передаются следующие параметры:\n",
    "    \n",
    "    model_class - класс модели, для которой подбираются лучшие параметры.\n",
    "    \n",
    "    score_func - функция оценки качества предсказания модели.\n",
    "    \n",
    "    parameters - (dict) ключ - параметр, значение - значения в виде списка.\n",
    "    \n",
    "    cv - (int), количество фолдов, на которое будет делиться выборка при кроссвалидации, по умолчанию 5.\n",
    "    \n",
    "    '''\n",
    "    \n",
    "    def __init__(self, model_class, score_func, parameters, cv=5):\n",
    "        self.model_class = model_class\n",
    "        self.score_func = score_func\n",
    "        self.param_keys = list(parameters.keys())\n",
    "        self.param_values = list(parameters.values())\n",
    "        self.cv = cv\n",
    "        \n",
    "    def _cross_validation(self, X, y, params):\n",
    "        \n",
    "        # количество элементов в выборке\n",
    "        n = len(y)\n",
    "        \n",
    "        # перемешивание индексов\n",
    "        shuffled = np.random.permutation(np.arange(n))\n",
    "        \n",
    "        # список для оценок\n",
    "        scores = []\n",
    "        \n",
    "        # задаем индекс конечного элемента валидационного фолда\n",
    "        end = 0\n",
    "        \n",
    "        # циклом идем по количеству фолдов в обратном порядке, \n",
    "        # при 5 фолдах:\n",
    "        # первая итерация - для валидации берем первую 1/5 выборки\n",
    "        # вторая итерация - для валидации берем первую 1/4 оставшейся выборки (не попадает предыдущая часть)\n",
    "        # ...\n",
    "        for i in range(self.cv, 0, -1):\n",
    "            # индекс начального элемента приравниваем индексу конечного\n",
    "            start = end\n",
    "            \n",
    "            # к индексу конечного элемента прибавляем длину фолда:\n",
    "            # от общей длины выборки отнимаем индекс начального элемента (длина оставшейся выборки) и \n",
    "            # целочисленно делим на оставшееся количество фолдов (i), \n",
    "            # прибавляем остаток от деления (чтобы все объекты участвовали в обучении/валидации).\n",
    "            end += (n - start)//i + (n - start)%i\n",
    "            \n",
    "            # валидационный фолд\n",
    "            _valid = shuffled[start:end]\n",
    "            # для обучения объединяем фолды до валидационного и после\n",
    "            _train = np.append(shuffled[:start], shuffled[end:])\n",
    "            \n",
    "            # инициирование модели с заданными гиперпараметрами\n",
    "            model = self.model_class(**params)\n",
    "            \n",
    "            # обучение на тренировочных фолдах\n",
    "            model.fit(X[_train], y[_train])\n",
    "            # в список добавляется оценка качества предсказания на валидационном фолде\n",
    "            scores.append(self.score_func(y[_valid], model.predict(X[_valid])))\n",
    "\n",
    "        return np.mean(scores)\n",
    "        \n",
    "    def _get_params(self, values):\n",
    "        return dict(zip(self.param_keys, values))\n",
    "        \n",
    "    def fit(self, X, y):\n",
    "        \n",
    "        best_score = 0\n",
    "        best_params = None\n",
    "        \n",
    "        # цикл по всем возможным комбинациям гиперпараметров\n",
    "        for values in product(*self.param_values):\n",
    "            # получение гиперпараметров для модели в виде словаря\n",
    "            params = self._get_params(values)\n",
    "            # оценка качества с использованием кроссвалидации\n",
    "            score = self._cross_validation(X, y, params)\n",
    "            \n",
    "            if score > best_score:\n",
    "                best_score, best_params = score, params\n",
    "                \n",
    "        self.best_score_ = best_score\n",
    "        self.best_params_ = best_params\n",
    "        \n",
    "        return self"
   ]
  },
  {
   "cell_type": "markdown",
   "metadata": {},
   "source": [
    "Метрики оценки качества классификации"
   ]
  },
  {
   "cell_type": "code",
   "execution_count": 17,
   "metadata": {},
   "outputs": [],
   "source": [
    "def calc_accuracy(y, y_pred):\n",
    "    if not isinstance(y, (np.ndarray, list)) or not isinstance(y_pred, (np.ndarray, list)):\n",
    "        raise TypeError('input must be a numpy.ndarray or list')\n",
    "    else:\n",
    "        y, y_pred = np.array(y), np.array(y_pred)\n",
    "        if y.shape != y_pred.shape:\n",
    "            raise ValueError(f'shape mismatch: \"y\" has shape {y.shape} and \"y_pred\" has shape {y_pred.shape}')\n",
    "        else:\n",
    "            return sum(y == y_pred)/(y.shape[0] + 1e-16)\n",
    "    \n",
    "\n",
    "def TPR(y, y_pred):\n",
    "    if not isinstance(y, (np.ndarray, list)) or not isinstance(y_pred, (np.ndarray, list)):\n",
    "        raise TypeError('input must be a numpy.ndarray or list')\n",
    "    else:\n",
    "        y, y_pred = np.array(y), np.array(y_pred)\n",
    "        if y.shape != y_pred.shape:\n",
    "            raise ValueError(f'shape mismatch: \"y\" has shape {y.shape} and \"y_pred\" has shape {y_pred.shape}')\n",
    "        else:\n",
    "            TP = sum((y == 1) & (y_pred == 1))\n",
    "            FN = sum((y == 1) & (y_pred == 0))\n",
    "            return TP/(TP + FN + 1e-16)\n",
    "\n",
    "\n",
    "def FPR(y, y_pred):\n",
    "    if not isinstance(y, (np.ndarray, list)) or not isinstance(y_pred, (np.ndarray, list)):\n",
    "        raise TypeError('input must be a numpy.ndarray or list')\n",
    "    else:\n",
    "        y, y_pred = np.array(y), np.array(y_pred)\n",
    "        if y.shape != y_pred.shape:\n",
    "            raise ValueError(f'shape mismatch: \"y\" has shape {y.shape} and \"y_pred\" has shape {y_pred.shape}')\n",
    "        else:\n",
    "            FP = sum((y == 0) & (y_pred == 1))\n",
    "            TN = sum((y == 0) & (y_pred == 0))\n",
    "            return FP/(FP + TN + 1e-16)\n",
    "\n",
    "        \n",
    "def calc_roc_auc(y, y_pred):\n",
    "    return np.trapz([0, TPR(y, y_pred), 1], x=[0, FPR(y, y_pred), 1], dx=0.1)"
   ]
  },
  {
   "cell_type": "markdown",
   "metadata": {},
   "source": [
    "## Обучение модели"
   ]
  },
  {
   "cell_type": "markdown",
   "metadata": {},
   "source": [
    "Для начала попробуем обучить базовую модель на несбалансированных данных"
   ]
  },
  {
   "cell_type": "code",
   "execution_count": 18,
   "metadata": {},
   "outputs": [
    {
     "data": {
      "text/plain": [
       "0.6079645218697061"
      ]
     },
     "execution_count": 18,
     "metadata": {},
     "output_type": "execute_result"
    }
   ],
   "source": [
    "model = LogRegression()\n",
    "\n",
    "model.fit(X_train_scaled.values, y_train.values)\n",
    "\n",
    "calc_roc_auc(y_valid.values, model.predict(X_valid_scaled.values))"
   ]
  },
  {
   "cell_type": "markdown",
   "metadata": {},
   "source": [
    "Найдем лучшие гиперпараметры для модели"
   ]
  },
  {
   "cell_type": "code",
   "execution_count": 19,
   "metadata": {},
   "outputs": [
    {
     "name": "stdout",
     "output_type": "stream",
     "text": [
      "CPU times: user 54min 23s, sys: 1h 51min 38s, total: 2h 46min 1s\n",
      "Wall time: 22min 38s\n"
     ]
    },
    {
     "data": {
      "text/plain": [
       "<__main__.BestParamsCV at 0x7f1f11498250>"
      ]
     },
     "execution_count": 19,
     "metadata": {},
     "output_type": "execute_result"
    }
   ],
   "source": [
    "%%time\n",
    "parameters = {'max_iter': range(2000, 8001, 2000), \n",
    "              'eta': [0.1, 0.5, 1], \n",
    "              'l1': [0, 1e-4, 1e-3], \n",
    "              'l2': [0, 1e-4, 1e-3]}\n",
    "\n",
    "# проверка на сбалансированных данных, \n",
    "# поэтому в качестве метрики будет использоваться accuracy\n",
    "bestparams = BestParamsCV(LogRegression, calc_accuracy, parameters)\n",
    "\n",
    "bestparams.fit(balanced_data, balanced_labels)"
   ]
  },
  {
   "cell_type": "code",
   "execution_count": 20,
   "metadata": {},
   "outputs": [
    {
     "data": {
      "text/plain": [
       "{'max_iter': 8000, 'eta': 0.5, 'l1': 0, 'l2': 0.001}"
      ]
     },
     "execution_count": 20,
     "metadata": {},
     "output_type": "execute_result"
    }
   ],
   "source": [
    "bestparams.best_params_"
   ]
  },
  {
   "cell_type": "code",
   "execution_count": 21,
   "metadata": {},
   "outputs": [
    {
     "data": {
      "text/plain": [
       "0.7572931276297334"
      ]
     },
     "execution_count": 21,
     "metadata": {},
     "output_type": "execute_result"
    }
   ],
   "source": [
    "bestparams.best_score_"
   ]
  },
  {
   "cell_type": "markdown",
   "metadata": {},
   "source": [
    "Обучим модель с лучшими гиперпараметрами"
   ]
  },
  {
   "cell_type": "code",
   "execution_count": 22,
   "metadata": {},
   "outputs": [
    {
     "data": {
      "text/plain": [
       "0.7953342884772109"
      ]
     },
     "execution_count": 22,
     "metadata": {},
     "output_type": "execute_result"
    }
   ],
   "source": [
    "model = LogRegression(**bestparams.best_params_)\n",
    "\n",
    "model.fit(balanced_data, balanced_labels)\n",
    "\n",
    "calc_roc_auc(y_valid.values, model.predict(X_valid_scaled.values))"
   ]
  },
  {
   "cell_type": "markdown",
   "metadata": {},
   "source": [
    "После балансировки метрика ROC_AUC на отложенной выборке существенно возросла."
   ]
  },
  {
   "cell_type": "markdown",
   "metadata": {},
   "source": [
    "### Обучение модели на всех данных"
   ]
  },
  {
   "cell_type": "markdown",
   "metadata": {},
   "source": [
    "Масштабирование признаков"
   ]
  },
  {
   "cell_type": "code",
   "execution_count": 23,
   "metadata": {},
   "outputs": [],
   "source": [
    "features_std = ['age', 'years_of_experience', 'lesson_price', 'mean_exam_points']\n",
    "\n",
    "X_test = test_df[base_features]\n",
    "\n",
    "scaler = Standard()\n",
    "\n",
    "X_scaled = X.copy()\n",
    "X_test_scaled = X_test.copy()\n",
    "\n",
    "X_scaled[features_std] = scaler.fit_transform(X[features_std])\n",
    "X_test_scaled[features_std] = scaler.transform(X_test[features_std])"
   ]
  },
  {
   "cell_type": "markdown",
   "metadata": {},
   "source": [
    "Балансировка классов"
   ]
  },
  {
   "cell_type": "code",
   "execution_count": 24,
   "metadata": {},
   "outputs": [
    {
     "name": "stdout",
     "output_type": "stream",
     "text": [
      "CPU times: user 3.34 s, sys: 3.84 s, total: 7.19 s\n",
      "Wall time: 14.5 s\n"
     ]
    }
   ],
   "source": [
    "%%time\n",
    "balanced_data, balanced_labels = balancing(X_scaled.values, y.values, k=3)"
   ]
  },
  {
   "cell_type": "markdown",
   "metadata": {},
   "source": [
    "Обучение модели с ранее подобранными гиперпараметрами"
   ]
  },
  {
   "cell_type": "code",
   "execution_count": 25,
   "metadata": {},
   "outputs": [
    {
     "data": {
      "text/plain": [
       "<__main__.LogRegression at 0x7f1f1c60ec40>"
      ]
     },
     "execution_count": 25,
     "metadata": {},
     "output_type": "execute_result"
    }
   ],
   "source": [
    "model = LogRegression(**bestparams.best_params_)\n",
    "\n",
    "model.fit(balanced_data, balanced_labels)"
   ]
  },
  {
   "cell_type": "markdown",
   "metadata": {},
   "source": [
    "Сохранение предсказанных меток для тестовой выборки"
   ]
  },
  {
   "cell_type": "code",
   "execution_count": 26,
   "metadata": {},
   "outputs": [],
   "source": [
    "pred = pd.DataFrame(test_df['Id'])\n",
    "pred['choose'] = model.predict(X_test_scaled)\n",
    "pred.to_csv('final_predict.csv', index=False)"
   ]
  }
 ],
 "metadata": {
  "kernelspec": {
   "display_name": "Python 3",
   "language": "python",
   "name": "python3"
  },
  "language_info": {
   "codemirror_mode": {
    "name": "ipython",
    "version": 3
   },
   "file_extension": ".py",
   "mimetype": "text/x-python",
   "name": "python",
   "nbconvert_exporter": "python",
   "pygments_lexer": "ipython3",
   "version": "3.8.5"
  }
 },
 "nbformat": 4,
 "nbformat_minor": 4
}
