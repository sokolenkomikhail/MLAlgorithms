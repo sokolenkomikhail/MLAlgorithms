{
 "cells": [
  {
   "cell_type": "code",
   "execution_count": 1,
   "metadata": {},
   "outputs": [],
   "source": [
    "import numpy as np\n",
    "from matplotlib import pyplot as plt"
   ]
  },
  {
   "cell_type": "markdown",
   "metadata": {},
   "source": [
    "### 1. Обучить любую модель классификации на датасете IRIS до применения PCA (2 компоненты) и после него. Сравнить качество классификации по отложенной выборке."
   ]
  },
  {
   "cell_type": "code",
   "execution_count": 2,
   "metadata": {},
   "outputs": [],
   "source": [
    "def standard_scale(X):\n",
    "    return (X - X.mean(axis=0))/X.std(axis=0)"
   ]
  },
  {
   "cell_type": "code",
   "execution_count": 3,
   "metadata": {},
   "outputs": [],
   "source": [
    "def knn(X_train, y_train, X_test, k, w=0.25):\n",
    "\n",
    "    # вычисление Эвклидового расстояния до каждого объекта в X1\n",
    "    test_distances = np.linalg.norm(X_test[:, np.newaxis] - X_train, axis=2, ord=2)\n",
    "    \n",
    "    # нахождение индексов k-ближайших соседей\n",
    "    k_nearest_idx = np.argpartition(test_distances, range(k))[:, :k]\n",
    "    k_nearest = y_train[k_nearest_idx]\n",
    "\n",
    "    # нулевой массив формой (<кол-во наблюдений>, <кол-во классов>)\n",
    "    # строки - наблюдения\n",
    "    # столбцы - номер класса\n",
    "    z = np.zeros((k_nearest.shape[0], len(set(y_train))))\n",
    "    \n",
    "    rows = range(z.shape[0])\n",
    "    # запись в массив значений в соответствии с номером соседа\n",
    "    for i in range(k):\n",
    "        z[rows, k_nearest[:, i]] += w**(i+1)\n",
    "    \n",
    "    # определение индекса (номера класса) максимального значения для каждого наблюдения\n",
    "    answers = np.argmax(z, axis=1)\n",
    "    \n",
    "    return answers"
   ]
  },
  {
   "cell_type": "code",
   "execution_count": 4,
   "metadata": {},
   "outputs": [],
   "source": [
    "def calc_accuracy(y, y_pred):\n",
    "    if not isinstance(y, (np.ndarray, list)) or not isinstance(y_pred, (np.ndarray, list)):\n",
    "        raise TypeError('input must be a numpy.ndarray or list')\n",
    "    else:\n",
    "        y, y_pred = np.array(y), np.array(y_pred)\n",
    "        if y.shape != y_pred.shape:\n",
    "            raise ValueError(f'shape mismatch: \"y\" has shape {y.shape} and \"y_pred\" has shape {y_pred.shape}')\n",
    "        else:\n",
    "            return sum(y == y_pred)/(y.shape[0] + 1e-16)"
   ]
  },
  {
   "cell_type": "code",
   "execution_count": 5,
   "metadata": {},
   "outputs": [],
   "source": [
    "def PCA(x, n_components):\n",
    "    # собственные значения и векторы ковариационной матрицы\n",
    "    eig_vals, eig_vecs = np.linalg.eig(x.T @ x)\n",
    "    # срез по индексам собственных значений, отсортированных по убыванию\n",
    "    indices = np.argsort(eig_vals)[::-1][:n_components]\n",
    "    # веса\n",
    "    w = eig_vecs[:, indices]\n",
    "    return x @ w"
   ]
  },
  {
   "cell_type": "code",
   "execution_count": 6,
   "metadata": {},
   "outputs": [],
   "source": [
    "from sklearn.datasets import load_iris\n",
    "\n",
    "iris = load_iris()\n",
    "X = iris.data\n",
    "y = iris.target"
   ]
  },
  {
   "cell_type": "code",
   "execution_count": 7,
   "metadata": {},
   "outputs": [],
   "source": [
    "X_centered = standard_scale(X)"
   ]
  },
  {
   "cell_type": "code",
   "execution_count": 8,
   "metadata": {},
   "outputs": [],
   "source": [
    "from sklearn.model_selection import train_test_split"
   ]
  },
  {
   "cell_type": "code",
   "execution_count": 21,
   "metadata": {},
   "outputs": [
    {
     "data": {
      "text/plain": [
       "0.9666666666666667"
      ]
     },
     "execution_count": 21,
     "metadata": {},
     "output_type": "execute_result"
    }
   ],
   "source": [
    "X_train, X_test, y_train, y_test = train_test_split(X_centered, y, test_size=0.2, random_state=42)\n",
    "\n",
    "y_pred = knn(X_train, y_train, X_test, 3)\n",
    "\n",
    "calc_accuracy(y_test, y_pred)"
   ]
  },
  {
   "cell_type": "code",
   "execution_count": 22,
   "metadata": {},
   "outputs": [
    {
     "data": {
      "text/plain": [
       "0.8666666666666667"
      ]
     },
     "execution_count": 22,
     "metadata": {},
     "output_type": "execute_result"
    }
   ],
   "source": [
    "X_reduced = PCA(X_centered, 2)\n",
    "\n",
    "X_train, X_test, y_train, y_test = train_test_split(X_reduced, y, test_size=0.2, random_state=42)\n",
    "\n",
    "y_pred = knn(X_train, y_train, X_test, 3)\n",
    "\n",
    "calc_accuracy(y_test, y_pred)"
   ]
  },
  {
   "cell_type": "markdown",
   "metadata": {},
   "source": [
    "После применения метода главных компонент метрика accuracy снизилась. \n",
    "\n",
    "Потеря информации была незначительной, но для тех объектов, на которых ошиблась модель эта информация оказалась решающей."
   ]
  },
  {
   "cell_type": "code",
   "execution_count": 19,
   "metadata": {},
   "outputs": [
    {
     "data": {
      "image/png": "[encoded data removed]",
      "text/plain": [
       "<Figure size 432x288 with 1 Axes>"
      ]
     },
     "metadata": {
      "needs_background": "light"
     },
     "output_type": "display_data"
    }
   ],
   "source": [
    "plt.figure()\n",
    "y = iris.target\n",
    "for c, i in zip(\"rgb\", [0, 1, 2]):\n",
    "    plt.scatter(X_reduced[y == i, 0], X_reduced[y == i, 1], c=c)\n",
    "plt.xlabel('Главная компонента 1')\n",
    "plt.ylabel('Главная компонента 2')\n",
    "plt.title('PCA датасета IRIS')\n",
    "plt.show()"
   ]
  },
  {
   "cell_type": "markdown",
   "metadata": {},
   "source": [
    "### 2. * Написать свою реализацию метода главных компонент с помощью сингулярного разложения с использованием функции numpy.linalg.svd()"
   ]
  },
  {
   "cell_type": "code",
   "execution_count": 20,
   "metadata": {},
   "outputs": [],
   "source": [
    "def PCA_svd(x, n_components):\n",
    "    _, S, V = np.linalg.svd(x.T @ x)\n",
    "    indices = np.argsort(S)[::-1][:n_components]\n",
    "    w = V.T[:, indices]\n",
    "    return x @ w"
   ]
  },
  {
   "cell_type": "code",
   "execution_count": 23,
   "metadata": {},
   "outputs": [
    {
     "data": {
      "text/plain": [
       "0.9666666666666667"
      ]
     },
     "execution_count": 23,
     "metadata": {},
     "output_type": "execute_result"
    }
   ],
   "source": [
    "X_train, X_test, y_train, y_test = train_test_split(X_centered, y, test_size=0.2, random_state=42)\n",
    "\n",
    "y_pred = knn(X_train, y_train, X_test, 3)\n",
    "\n",
    "calc_accuracy(y_test, y_pred)"
   ]
  },
  {
   "cell_type": "code",
   "execution_count": 24,
   "metadata": {},
   "outputs": [
    {
     "data": {
      "text/plain": [
       "0.8666666666666667"
      ]
     },
     "execution_count": 24,
     "metadata": {},
     "output_type": "execute_result"
    }
   ],
   "source": [
    "X_reduced = PCA_svd(X_centered, 2)\n",
    "\n",
    "X_train, X_test, y_train, y_test = train_test_split(X_reduced, y, test_size=0.2, random_state=42)\n",
    "\n",
    "y_pred = knn(X_train, y_train, X_test, 3)\n",
    "\n",
    "calc_accuracy(y_test, y_pred)"
   ]
  },
  {
   "cell_type": "code",
   "execution_count": 25,
   "metadata": {},
   "outputs": [
    {
     "data": {
      "image/png": "[encoded data removed]",
      "text/plain": [
       "<Figure size 432x288 with 1 Axes>"
      ]
     },
     "metadata": {
      "needs_background": "light"
     },
     "output_type": "display_data"
    }
   ],
   "source": [
    "plt.figure()\n",
    "y = iris.target\n",
    "for c, i in zip(\"rgb\", [0, 1, 2]):\n",
    "    plt.scatter(X_reduced[y == i, 0], X_reduced[y == i, 1], c=c)\n",
    "plt.xlabel('Главная компонента 1')\n",
    "plt.ylabel('Главная компонента 2')\n",
    "plt.title('PCA датасета IRIS')\n",
    "plt.show()"
   ]
  }
 ],
 "metadata": {
  "kernelspec": {
   "display_name": "Python 3",
   "language": "python",
   "name": "python3"
  },
  "language_info": {
   "codemirror_mode": {
    "name": "ipython",
    "version": 3
   },
   "file_extension": ".py",
   "mimetype": "text/x-python",
   "name": "python",
   "nbconvert_exporter": "python",
   "pygments_lexer": "ipython3",
   "version": "3.8.5"
  }
 },
 "nbformat": 4,
 "nbformat_minor": 4
}
