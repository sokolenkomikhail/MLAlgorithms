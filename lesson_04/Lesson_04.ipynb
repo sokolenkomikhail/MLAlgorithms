{
 "cells": [
  {
   "cell_type": "code",
   "execution_count": 1,
   "metadata": {},
   "outputs": [],
   "source": [
    "import numpy as np"
   ]
  },
  {
   "cell_type": "markdown",
   "metadata": {},
   "source": [
    "### 1. В коде из методички реализуйте один или несколько из критериев останова (количество листьев, количество используемых признаков, глубина дерева и т.д.)"
   ]
  },
  {
   "cell_type": "code",
   "execution_count": 214,
   "metadata": {},
   "outputs": [],
   "source": [
    "class Node:\n",
    "    \n",
    "    def __init__(self, index, t, true_branch, false_branch):\n",
    "        self.index = index  # индекс признака, по которому ведется сравнение с порогом в этом узле\n",
    "        self.t = t  # значение порога\n",
    "        self.true_branch = true_branch  # поддерево, удовлетворяющее условию в узле\n",
    "        self.false_branch = false_branch  # поддерево, не удовлетворяющее условию в узле\n",
    "        \n",
    "        \n",
    "class Leaf:\n",
    "    \n",
    "    def __init__(self, data, labels):\n",
    "        self.data = data\n",
    "        self.labels = labels\n",
    "        self.prediction = self.predict()\n",
    "        \n",
    "\n",
    "    def predict(self):\n",
    "        '''Небольшие изменения метода, используются методы библиотеки numpy.'''\n",
    "        # получение классов и количество их вхождений\n",
    "        classes, counts = np.unique(self.labels, return_counts=True)\n",
    "        \n",
    "        # получение индекса максимального значения из counts\n",
    "        idx = np.argmax(counts)\n",
    "        return classes[idx]"
   ]
  },
  {
   "cell_type": "code",
   "execution_count": 215,
   "metadata": {},
   "outputs": [],
   "source": [
    "def gini(labels):\n",
    "    '''Небольшие изменения в функции, используются методы библиотеки numpy.'''\n",
    "    # получение количества вхождений для каждого класса\n",
    "    _, counts = np.unique(labels, return_counts=True)\n",
    "    \n",
    "    # расчет критерия\n",
    "    gini = 1 - np.sum((counts/labels.shape[0])**2)\n",
    "    \n",
    "    return gini\n",
    "\n",
    "\n",
    "def gain(left_labels, right_labels, root_gini):\n",
    "    \n",
    "    p = float(left_labels.shape[0]) / (left_labels.shape[0] + right_labels.shape[0])\n",
    "    \n",
    "    return root_gini - p * gini(left_labels) - (1 - p) * gini(right_labels)\n",
    "\n",
    "\n",
    "def split(data, labels, column_index, t):\n",
    "    \n",
    "    left = np.where(data[:, column_index] <= t)\n",
    "    right = np.where(data[:, column_index] > t)\n",
    "    \n",
    "    true_data = data[left]\n",
    "    false_data = data[right]\n",
    "    \n",
    "    true_labels = labels[left]\n",
    "    false_labels = labels[right]\n",
    "    \n",
    "    return true_data, false_data, true_labels, false_labels\n",
    "\n",
    "\n",
    "def find_best_split(data, labels, min_samples_leaf=5):\n",
    "    \n",
    "    root_gini = gini(labels)\n",
    "    \n",
    "    best_gain = 0\n",
    "    best_t = None\n",
    "    best_index = None\n",
    "    \n",
    "    n_features = data.shape[1]\n",
    "    \n",
    "    for index in range(n_features):\n",
    "        t_values = np.unique(data[:, index])\n",
    "        \n",
    "        for t in t_values:\n",
    "            true_data, false_data, true_labels, false_labels = split(data, labels, index, t)\n",
    "            #  пропуск разбиений, в которых в узле остается менее 5 объектов\n",
    "            if len(true_data) < min_samples_leaf or len(false_data) < min_samples_leaf:\n",
    "                continue\n",
    "                \n",
    "            current_gain = gain(true_labels, false_labels, root_gini)\n",
    "            #  порог, на котором получается максимальный прирост качества\n",
    "            if current_gain > best_gain:\n",
    "                best_gain, best_t, best_index = current_gain, t, index\n",
    "                \n",
    "    return best_gain, best_t, best_index\n",
    "\n",
    "\n",
    "def build_tree(data, labels, max_depth=None, min_samples_leaf=1):\n",
    "    '''В функцию также передаются параметры: \n",
    "    max_depth - максимальная глубина,\n",
    "    min_samples_leaf - минимальное количество объектов в листе.'''\n",
    "    \n",
    "    gain, t, index = find_best_split(data, labels, min_samples_leaf=min_samples_leaf)\n",
    "    \n",
    "    # возвращает лист, если нет прироста информативности, либо по достижению максимальной глубины\n",
    "    if gain == 0 or max_depth == 0:\n",
    "        return Leaf(data, labels)\n",
    "    \n",
    "    # убывание значения максимальной глубины для каждого следующего уровня\n",
    "    if max_depth is not None:\n",
    "        max_depth -= 1\n",
    "    \n",
    "    true_data, false_data, true_labels, false_labels = split(data, labels, index, t)\n",
    "    \n",
    "    true_branch = build_tree(true_data, true_labels, \n",
    "                             max_depth=max_depth, \n",
    "                             min_samples_leaf=min_samples_leaf)\n",
    "    \n",
    "    false_branch = build_tree(false_data, false_labels, \n",
    "                              max_depth=max_depth, \n",
    "                              min_samples_leaf=min_samples_leaf)\n",
    "    \n",
    "    return Node(index, t, true_branch, false_branch)\n",
    "\n",
    "\n",
    "def classify_object(obj, node):\n",
    "    if isinstance(node, Leaf):\n",
    "        answer = node.prediction\n",
    "        return answer\n",
    "    \n",
    "    if obj[node.index] <= node.t:\n",
    "        return classify_object(obj, node.true_branch)\n",
    "    else:\n",
    "        return classify_object(obj, node.false_branch)\n",
    "    \n",
    "    \n",
    "def predict(data, tree):\n",
    "    classes = []\n",
    "    for obj in data:\n",
    "        prediction = classify_object(obj, tree)\n",
    "        classes.append(prediction)\n",
    "    return classes"
   ]
  },
  {
   "cell_type": "code",
   "execution_count": 216,
   "metadata": {},
   "outputs": [],
   "source": [
    "from sklearn.datasets import make_classification\n",
    "from matplotlib import pyplot as plt\n",
    "from matplotlib.colors import ListedColormap\n",
    "from sklearn.metrics import accuracy_score\n",
    "\n",
    "\n",
    "classification_data, classification_labels = make_classification(n_samples=500, n_features=2, n_informative=2, \n",
    "                                                                 n_classes=2, n_redundant=0,\n",
    "                                                                 n_clusters_per_class=1, random_state=1234)"
   ]
  },
  {
   "cell_type": "code",
   "execution_count": 217,
   "metadata": {},
   "outputs": [
    {
     "data": {
      "image/png": "[encoded data removed]",
      "text/plain": [
       "<Figure size 576x576 with 1 Axes>"
      ]
     },
     "metadata": {
      "needs_background": "light"
     },
     "output_type": "display_data"
    }
   ],
   "source": [
    "colors = ListedColormap(['red', 'blue'])\n",
    "light_colors = ListedColormap(['lightcoral', 'lightblue'])\n",
    "\n",
    "plt.figure(figsize=(8,8))\n",
    "plt.scatter(list(map(lambda x: x[0], classification_data)), list(map(lambda x: x[1], classification_data)), \n",
    "              c=classification_labels, cmap=colors);"
   ]
  },
  {
   "cell_type": "code",
   "execution_count": 218,
   "metadata": {},
   "outputs": [],
   "source": [
    "from sklearn.model_selection import train_test_split\n",
    "\n",
    "train_data, test_data, train_labels, test_labels = train_test_split(classification_data, \n",
    "                                                                    classification_labels, \n",
    "                                                                    test_size=0.3,\n",
    "                                                                    random_state=42)"
   ]
  },
  {
   "cell_type": "code",
   "execution_count": 227,
   "metadata": {},
   "outputs": [
    {
     "name": "stdout",
     "output_type": "stream",
     "text": [
      "CPU times: user 244 ms, sys: 0 ns, total: 244 ms\n",
      "Wall time: 242 ms\n"
     ]
    }
   ],
   "source": [
    "%%time\n",
    "my_tree = build_tree(train_data, train_labels, max_depth=3, min_samples_leaf=5)"
   ]
  },
  {
   "cell_type": "code",
   "execution_count": 228,
   "metadata": {},
   "outputs": [
    {
     "name": "stdout",
     "output_type": "stream",
     "text": [
      "Индекс 1 <= -0.15304980554978775\n",
      "--> True:\n",
      "  Индекс 1 <= -0.7384007133405865\n",
      "  --> True:\n",
      "    Индекс 0 <= -0.638245377322223\n",
      "    --> True:\n",
      "      Прогноз: 0\n",
      "    --> False:\n",
      "      Прогноз: 0\n",
      "  --> False:\n",
      "    Индекс 0 <= -0.47150301212119017\n",
      "    --> True:\n",
      "      Прогноз: 0\n",
      "    --> False:\n",
      "      Прогноз: 0\n",
      "--> False:\n",
      "  Индекс 0 <= -0.5071795939649821\n",
      "  --> True:\n",
      "    Индекс 1 <= 0.3883677064018358\n",
      "    --> True:\n",
      "      Прогноз: 1\n",
      "    --> False:\n",
      "      Прогноз: 1\n",
      "  --> False:\n",
      "    Индекс 0 <= -0.33363502524913\n",
      "    --> True:\n",
      "      Прогноз: 0\n",
      "    --> False:\n",
      "      Прогноз: 0\n"
     ]
    }
   ],
   "source": [
    "# Напечатаем ход нашего дерева\n",
    "def print_tree(node, spacing=\"\"):\n",
    "\n",
    "    # Если лист, то выводим его прогноз\n",
    "    if isinstance(node, Leaf):\n",
    "        print(spacing + \"Прогноз:\", node.prediction)\n",
    "        return\n",
    "\n",
    "    # Выведем значение индекса и порога на этом узле\n",
    "    print(spacing + 'Индекс', str(node.index), '<=', str(node.t))\n",
    "\n",
    "    # Рекурсионный вызов функции на положительном поддереве\n",
    "    print (spacing + '--> True:')\n",
    "    print_tree(node.true_branch, spacing + \"  \")\n",
    "\n",
    "    # Рекурсионный вызов функции на отрицательном поддереве\n",
    "    print (spacing + '--> False:')\n",
    "    print_tree(node.false_branch, spacing + \"  \")\n",
    "    \n",
    "print_tree(my_tree)"
   ]
  },
  {
   "cell_type": "code",
   "execution_count": 229,
   "metadata": {},
   "outputs": [],
   "source": [
    "train_answers = predict(train_data, my_tree)"
   ]
  },
  {
   "cell_type": "code",
   "execution_count": 230,
   "metadata": {},
   "outputs": [],
   "source": [
    "answers = predict(test_data, my_tree)"
   ]
  },
  {
   "cell_type": "code",
   "execution_count": 231,
   "metadata": {},
   "outputs": [
    {
     "data": {
      "text/plain": [
       "0.9171428571428571"
      ]
     },
     "execution_count": 231,
     "metadata": {},
     "output_type": "execute_result"
    }
   ],
   "source": [
    "train_accuracy = accuracy_score(train_labels, train_answers)\n",
    "train_accuracy"
   ]
  },
  {
   "cell_type": "code",
   "execution_count": 232,
   "metadata": {},
   "outputs": [
    {
     "data": {
      "text/plain": [
       "0.9133333333333333"
      ]
     },
     "execution_count": 232,
     "metadata": {},
     "output_type": "execute_result"
    }
   ],
   "source": [
    "test_accuracy = accuracy_score(test_labels, answers)\n",
    "test_accuracy"
   ]
  },
  {
   "cell_type": "code",
   "execution_count": 233,
   "metadata": {},
   "outputs": [],
   "source": [
    "# Визуализируем дерево на графике\n",
    "\n",
    "def get_meshgrid(data, step=.05, border=1.2):\n",
    "    x_min, x_max = data[:, 0].min() - border, data[:, 0].max() + border\n",
    "    y_min, y_max = data[:, 1].min() - border, data[:, 1].max() + border\n",
    "    return np.meshgrid(np.arange(x_min, x_max, step), np.arange(y_min, y_max, step))\n",
    "\n",
    "\n",
    "def visualize(train_data, test_data):\n",
    "    plt.figure(figsize = (16, 7))\n",
    "\n",
    "    # график обучающей выборки\n",
    "    plt.subplot(1,2,1)\n",
    "    xx, yy = get_meshgrid(train_data)\n",
    "    mesh_predictions = np.array(predict(np.c_[xx.ravel(), yy.ravel()], my_tree)).reshape(xx.shape)\n",
    "    plt.pcolormesh(xx, yy, mesh_predictions, cmap = light_colors)\n",
    "    plt.scatter(train_data[:, 0], train_data[:, 1], c = train_labels, cmap = colors)\n",
    "    plt.title(f'Train accuracy={train_accuracy:.2f}')\n",
    "\n",
    "    # график тестовой выборки\n",
    "    plt.subplot(1,2,2)\n",
    "    plt.pcolormesh(xx, yy, mesh_predictions, cmap = light_colors)\n",
    "    plt.scatter(test_data[:, 0], test_data[:, 1], c = test_labels, cmap = colors)\n",
    "    plt.title(f'Test accuracy={test_accuracy:.2f}')"
   ]
  },
  {
   "cell_type": "code",
   "execution_count": 234,
   "metadata": {},
   "outputs": [
    {
     "data": {
      "image/png": "[encoded data removed]",
      "text/plain": [
       "<Figure size 1152x504 with 2 Axes>"
      ]
     },
     "metadata": {
      "needs_background": "light"
     },
     "output_type": "display_data"
    }
   ],
   "source": [
    "visualize(train_data, test_data)"
   ]
  },
  {
   "cell_type": "markdown",
   "metadata": {},
   "source": [
    "### 2. * Реализуйте дерево для задачи регрессии. Возьмите за основу дерево, реализованное в методичке, заменив механизм предсказания в листе на взятие среднего значения по выборке, и критерий Джини на дисперсию значений."
   ]
  },
  {
   "cell_type": "code",
   "execution_count": 2,
   "metadata": {},
   "outputs": [],
   "source": [
    "class Node:\n",
    "    \n",
    "    def __init__(self, index, t, true_branch, false_branch):\n",
    "        self.index = index  # индекс признака, по которому ведется сравнение с порогом в этом узле\n",
    "        self.t = t  # значение порога\n",
    "        self.true_branch = true_branch  # поддерево, удовлетворяющее условию в узле\n",
    "        self.false_branch = false_branch  # поддерево, не удовлетворяющее условию в узле\n",
    "        \n",
    "        \n",
    "class Leaf:\n",
    "    \n",
    "    def __init__(self, data, labels):\n",
    "        self.data = data\n",
    "        self.labels = labels\n",
    "        self.prediction = self.predict()\n",
    "        \n",
    "\n",
    "    def predict(self):\n",
    "        return np.mean(self.labels)"
   ]
  },
  {
   "cell_type": "markdown",
   "metadata": {},
   "source": [
    "Дисперсия рассчитывается по формуле:\n",
    "\n",
    "$$ D(y) = \\frac{1}{n}\\sum_{i = 1}^{n}(y_{i} - \\overline{y})^{2} $$\n",
    "\n",
    "Где $ \\overline{y} $ - среднее по $y$\n",
    "\n",
    "$$ \\overline{y} = \\frac{1}{n}\\sum_{i = 1}^{n}y_{i} $$"
   ]
  },
  {
   "cell_type": "markdown",
   "metadata": {},
   "source": [
    "Таким образом, функция расчета критерия информативности примет вид"
   ]
  },
  {
   "cell_type": "code",
   "execution_count": 3,
   "metadata": {},
   "outputs": [],
   "source": [
    "def score(y):\n",
    "    '''Функция расчета дисперсии значений'''\n",
    "    mean = np.sum(y)/y.shape[0]\n",
    "    score = np.sum((y - mean)**2)/y.shape[0]\n",
    "    return score"
   ]
  },
  {
   "cell_type": "markdown",
   "metadata": {},
   "source": [
    "Проверка самописной функции"
   ]
  },
  {
   "cell_type": "code",
   "execution_count": 4,
   "metadata": {},
   "outputs": [],
   "source": [
    "y_ = np.random.randn(10)"
   ]
  },
  {
   "cell_type": "code",
   "execution_count": 5,
   "metadata": {},
   "outputs": [
    {
     "data": {
      "text/plain": [
       "0.39145745680164806"
      ]
     },
     "execution_count": 5,
     "metadata": {},
     "output_type": "execute_result"
    }
   ],
   "source": [
    "score(y_)"
   ]
  },
  {
   "cell_type": "code",
   "execution_count": 6,
   "metadata": {},
   "outputs": [
    {
     "data": {
      "text/plain": [
       "0.39145745680164806"
      ]
     },
     "execution_count": 6,
     "metadata": {},
     "output_type": "execute_result"
    }
   ],
   "source": [
    "np.var(y_)"
   ]
  },
  {
   "cell_type": "code",
   "execution_count": 7,
   "metadata": {},
   "outputs": [],
   "source": [
    "def score(y):\n",
    "    '''Функция расчета дисперсии значений'''\n",
    "    mean = np.sum(y)/y.shape[0]\n",
    "    score = np.sum((y - mean)**2)/y.shape[0]\n",
    "    return score\n",
    "\n",
    "\n",
    "def gain(left_labels, right_labels, root_score):\n",
    "    \n",
    "    p = float(left_labels.shape[0]) / (left_labels.shape[0] + right_labels.shape[0])\n",
    "    \n",
    "    return root_score - p * score(left_labels) - (1 - p) * score(right_labels)\n",
    "\n",
    "\n",
    "def split(data, labels, column_index, t):\n",
    "    \n",
    "    left = np.where(data[:, column_index] <= t)\n",
    "    right = np.where(data[:, column_index] > t)\n",
    "    \n",
    "    true_data = data[left]\n",
    "    false_data = data[right]\n",
    "    \n",
    "    true_labels = labels[left]\n",
    "    false_labels = labels[right]\n",
    "    \n",
    "    return true_data, false_data, true_labels, false_labels\n",
    "\n",
    "\n",
    "def find_best_split(data, labels, min_samples_leaf=5):\n",
    "    ''' Минимальное количество объектов в листе - как параметр функции'''\n",
    "    \n",
    "    root_score = score(labels)\n",
    "    \n",
    "    best_gain = 0\n",
    "    best_t = None\n",
    "    best_index = None\n",
    "    \n",
    "    n_features = data.shape[1]\n",
    "    \n",
    "    for index in range(n_features):\n",
    "        t_values = np.unique(data[:, index])\n",
    "        \n",
    "        for t in t_values:\n",
    "            true_data, false_data, true_labels, false_labels = split(data, labels, index, t)\n",
    "            #  пропуск разбиений, в которых в узле остается менее 5 объектов\n",
    "            if len(true_data) < min_samples_leaf or len(false_data) < min_samples_leaf:\n",
    "                continue\n",
    "                \n",
    "            current_gain = gain(true_labels, false_labels, root_score)\n",
    "            #  порог, на котором получается максимальный прирост качества\n",
    "            if current_gain > best_gain:\n",
    "                best_gain, best_t, best_index = current_gain, t, index\n",
    "                \n",
    "    return best_gain, best_t, best_index\n",
    "\n",
    "\n",
    "def build_tree(data, labels, max_depth=None, min_samples_leaf=1):\n",
    "    '''В функцию также передаются параметры: \n",
    "    max_depth - максимальная глубина,\n",
    "    min_samples_leaf - минимальное количество объектов в листе.'''\n",
    "    \n",
    "    gain, t, index = find_best_split(data, labels, min_samples_leaf=min_samples_leaf)\n",
    "    \n",
    "    # возвращает лист, если нет прироста информативности, либо по достижению максимальной глубины\n",
    "    if gain == 0 or max_depth == 0:\n",
    "        return Leaf(data, labels)\n",
    "    \n",
    "    # убывание значения максимальной глубины для каждого следующего уровня\n",
    "    if max_depth is not None:\n",
    "        max_depth -= 1\n",
    "    \n",
    "    true_data, false_data, true_labels, false_labels = split(data, labels, index, t)\n",
    "    \n",
    "    true_branch = build_tree(true_data, true_labels, \n",
    "                             max_depth=max_depth, \n",
    "                             min_samples_leaf=min_samples_leaf)\n",
    "    \n",
    "    false_branch = build_tree(false_data, false_labels, \n",
    "                              max_depth=max_depth, \n",
    "                              min_samples_leaf=min_samples_leaf)\n",
    "    \n",
    "    return Node(index, t, true_branch, false_branch)\n",
    "\n",
    "\n",
    "def classify_object(obj, node):\n",
    "    if isinstance(node, Leaf):\n",
    "        answer = node.prediction\n",
    "        return answer\n",
    "    \n",
    "    if obj[node.index] <= node.t:\n",
    "        return classify_object(obj, node.true_branch)\n",
    "    else:\n",
    "        return classify_object(obj, node.false_branch)\n",
    "    \n",
    "    \n",
    "def predict(data, tree):\n",
    "    classes = []\n",
    "    for obj in data:\n",
    "        prediction = classify_object(obj, tree)\n",
    "        classes.append(prediction)\n",
    "    return classes"
   ]
  },
  {
   "cell_type": "markdown",
   "metadata": {},
   "source": [
    "Проверка на синтетических данных"
   ]
  },
  {
   "cell_type": "code",
   "execution_count": 8,
   "metadata": {},
   "outputs": [],
   "source": [
    "from sklearn.datasets import make_regression"
   ]
  },
  {
   "cell_type": "code",
   "execution_count": 9,
   "metadata": {},
   "outputs": [],
   "source": [
    "X, y = make_regression(n_samples=10000, n_features=2, noise=50, random_state=42)"
   ]
  },
  {
   "cell_type": "code",
   "execution_count": 10,
   "metadata": {},
   "outputs": [],
   "source": [
    "from sklearn.model_selection import train_test_split\n",
    "\n",
    "X_train, X_test, y_train, y_test = train_test_split(X, y, test_size=0.3, random_state=42)"
   ]
  },
  {
   "cell_type": "code",
   "execution_count": 11,
   "metadata": {},
   "outputs": [
    {
     "name": "stdout",
     "output_type": "stream",
     "text": [
      "CPU times: user 7.7 s, sys: 12.5 ms, total: 7.71 s\n",
      "Wall time: 7.72 s\n"
     ]
    }
   ],
   "source": [
    "%%time\n",
    "regression_tree = build_tree(X_train, y_train, max_depth=5, min_samples_leaf=40)"
   ]
  },
  {
   "cell_type": "code",
   "execution_count": 12,
   "metadata": {},
   "outputs": [
    {
     "name": "stdout",
     "output_type": "stream",
     "text": [
      "Индекс 0 <= 0.15519068385897913\n",
      "--> True:\n",
      "  Индекс 0 <= -0.8607291633953384\n",
      "  --> True:\n",
      "    Индекс 0 <= -1.515744114997232\n",
      "    --> True:\n",
      "      Индекс 0 <= -2.123947582700665\n",
      "      --> True:\n",
      "        Индекс 0 <= -2.55254015202075\n",
      "        --> True:\n",
      "          Прогноз: -281.9898794565978\n",
      "        --> False:\n",
      "          Прогноз: -235.94143385243166\n",
      "      --> False:\n",
      "        Индекс 0 <= -1.853018482897569\n",
      "        --> True:\n",
      "          Прогноз: -197.95574780351743\n",
      "        --> False:\n",
      "          Прогноз: -165.7529078723882\n",
      "    --> False:\n",
      "      Индекс 0 <= -1.217403793496952\n",
      "      --> True:\n",
      "        Индекс 0 <= -1.3865600587809983\n",
      "        --> True:\n",
      "          Прогноз: -147.41136117440743\n",
      "        --> False:\n",
      "          Прогноз: -127.08218312418607\n",
      "      --> False:\n",
      "        Индекс 1 <= 0.33855287628591424\n",
      "        --> True:\n",
      "          Прогноз: -105.14137457265865\n",
      "        --> False:\n",
      "          Прогноз: -87.38784068511787\n",
      "  --> False:\n",
      "    Индекс 0 <= -0.3393358444160607\n",
      "    --> True:\n",
      "      Индекс 0 <= -0.6057149230033384\n",
      "      --> True:\n",
      "        Индекс 0 <= -0.6717207892580773\n",
      "        --> True:\n",
      "          Прогноз: -76.26175892365839\n",
      "        --> False:\n",
      "          Прогноз: -62.08219068982932\n",
      "      --> False:\n",
      "        Индекс 1 <= -0.48720292119492714\n",
      "        --> True:\n",
      "          Прогноз: -56.914935271407145\n",
      "        --> False:\n",
      "          Прогноз: -43.51608386665179\n",
      "    --> False:\n",
      "      Индекс 0 <= -0.11000549870105147\n",
      "      --> True:\n",
      "        Индекс 1 <= -1.5302791359297876\n",
      "        --> True:\n",
      "          Прогноз: -52.40509246963484\n",
      "        --> False:\n",
      "          Прогноз: -20.745409029564154\n",
      "      --> False:\n",
      "        Индекс 1 <= -0.31984752325484395\n",
      "        --> True:\n",
      "          Прогноз: -6.994910891708664\n",
      "        --> False:\n",
      "          Прогноз: 4.937727478835247\n",
      "--> False:\n",
      "  Индекс 0 <= 1.0859821161750323\n",
      "  --> True:\n",
      "    Индекс 0 <= 0.5827375831738644\n",
      "    --> True:\n",
      "      Индекс 0 <= 0.43192254467394064\n",
      "      --> True:\n",
      "        Индекс 1 <= 0.01877772338794696\n",
      "        --> True:\n",
      "          Прогноз: 21.238994750594927\n",
      "        --> False:\n",
      "          Прогноз: 36.34011563696913\n",
      "      --> False:\n",
      "        Индекс 1 <= 0.392634115650968\n",
      "        --> True:\n",
      "          Прогноз: 46.86679755101578\n",
      "        --> False:\n",
      "          Прогноз: 60.54496587753228\n",
      "    --> False:\n",
      "      Индекс 0 <= 0.8983025496890353\n",
      "      --> True:\n",
      "        Индекс 0 <= 0.7670502184927098\n",
      "        --> True:\n",
      "          Прогноз: 64.76407606799083\n",
      "        --> False:\n",
      "          Прогноз: 80.19234039278327\n",
      "      --> False:\n",
      "        Индекс 1 <= 0.67101780491777\n",
      "        --> True:\n",
      "          Прогноз: 91.10145754406417\n",
      "        --> False:\n",
      "          Прогноз: 112.46154382568369\n",
      "  --> False:\n",
      "    Индекс 0 <= 1.7945578635177877\n",
      "    --> True:\n",
      "      Индекс 0 <= 1.4989584626675316\n",
      "      --> True:\n",
      "        Индекс 0 <= 1.3427953154217054\n",
      "        --> True:\n",
      "          Прогноз: 115.07513437834187\n",
      "        --> False:\n",
      "          Прогноз: 136.46602629082216\n",
      "      --> False:\n",
      "        Индекс 0 <= 1.5986475935911102\n",
      "        --> True:\n",
      "          Прогноз: 152.23850312521515\n",
      "        --> False:\n",
      "          Прогноз: 168.92141148001738\n",
      "    --> False:\n",
      "      Индекс 0 <= 2.4553001399108942\n",
      "      --> True:\n",
      "        Индекс 0 <= 2.0895387216947734\n",
      "        --> True:\n",
      "          Прогноз: 192.52934703515885\n",
      "        --> False:\n",
      "          Прогноз: 214.82000858467026\n",
      "      --> False:\n",
      "        Прогноз: 279.7297980329099\n"
     ]
    }
   ],
   "source": [
    "# Напечатаем ход нашего дерева\n",
    "def print_tree(node, spacing=\"\"):\n",
    "\n",
    "    # Если лист, то выводим его прогноз\n",
    "    if isinstance(node, Leaf):\n",
    "        print(spacing + \"Прогноз:\", node.prediction)\n",
    "        return\n",
    "\n",
    "    # Выведем значение индекса и порога на этом узле\n",
    "    print(spacing + 'Индекс', str(node.index), '<=', str(node.t))\n",
    "\n",
    "    # Рекурсионный вызов функции на положительном поддереве\n",
    "    print (spacing + '--> True:')\n",
    "    print_tree(node.true_branch, spacing + \"  \")\n",
    "\n",
    "    # Рекурсионный вызов функции на отрицательном поддереве\n",
    "    print (spacing + '--> False:')\n",
    "    print_tree(node.false_branch, spacing + \"  \")\n",
    "    \n",
    "print_tree(regression_tree)"
   ]
  },
  {
   "cell_type": "markdown",
   "metadata": {},
   "source": [
    "Сравнение самописного дерева с DecisionTreeRegresssor из библиотеки sklearn"
   ]
  },
  {
   "cell_type": "code",
   "execution_count": 13,
   "metadata": {},
   "outputs": [],
   "source": [
    "from sklearn.tree import DecisionTreeRegressor\n",
    "from sklearn.metrics import r2_score"
   ]
  },
  {
   "cell_type": "code",
   "execution_count": 14,
   "metadata": {},
   "outputs": [
    {
     "data": {
      "text/plain": [
       "DecisionTreeRegressor(max_depth=5, min_samples_leaf=40)"
      ]
     },
     "execution_count": 14,
     "metadata": {},
     "output_type": "execute_result"
    }
   ],
   "source": [
    "# передаем те же аргументы, что и для самописного дерева\n",
    "model = DecisionTreeRegressor(max_depth=5, min_samples_leaf=40)\n",
    "model.fit(X_train, y_train)"
   ]
  },
  {
   "cell_type": "code",
   "execution_count": 16,
   "metadata": {},
   "outputs": [],
   "source": [
    "# самописное дерево\n",
    "y_pred = predict(X_test, regression_tree)\n",
    "# дерево из sklearn\n",
    "y_pred_ = model.predict(X_test)"
   ]
  },
  {
   "cell_type": "markdown",
   "metadata": {},
   "source": [
    "r2_score"
   ]
  },
  {
   "cell_type": "code",
   "execution_count": 18,
   "metadata": {},
   "outputs": [
    {
     "data": {
      "text/plain": [
       "(0.7964182166232351, 0.7964182166232351)"
      ]
     },
     "execution_count": 18,
     "metadata": {},
     "output_type": "execute_result"
    }
   ],
   "source": [
    "# train\n",
    "r2_score(y_train, predict(X_train, regression_tree)), r2_score(y_train, model.predict(X_train))"
   ]
  },
  {
   "cell_type": "code",
   "execution_count": 19,
   "metadata": {},
   "outputs": [
    {
     "data": {
      "text/plain": [
       "(0.7955782699825875, 0.795426874529264)"
      ]
     },
     "execution_count": 19,
     "metadata": {},
     "output_type": "execute_result"
    }
   ],
   "source": [
    "# test\n",
    "r2_score(y_test, y_pred), r2_score(y_test, y_pred_)"
   ]
  }
 ],
 "metadata": {
  "kernelspec": {
   "display_name": "Python 3",
   "language": "python",
   "name": "python3"
  },
  "language_info": {
   "codemirror_mode": {
    "name": "ipython",
    "version": 3
   },
   "file_extension": ".py",
   "mimetype": "text/x-python",
   "name": "python",
   "nbconvert_exporter": "python",
   "pygments_lexer": "ipython3",
   "version": "3.8.5"
  }
 },
 "nbformat": 4,
 "nbformat_minor": 4
}
