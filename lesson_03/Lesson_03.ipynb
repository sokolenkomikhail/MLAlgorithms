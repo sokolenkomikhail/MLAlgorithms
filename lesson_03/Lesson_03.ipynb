{
 "cells": [
  {
   "cell_type": "code",
   "execution_count": 1,
   "metadata": {},
   "outputs": [],
   "source": [
    "import numpy as np"
   ]
  },
  {
   "cell_type": "markdown",
   "metadata": {},
   "source": [
    "### 1. *Измените функцию calc_logloss так, чтобы нули по возможности не попадали в np.log."
   ]
  },
  {
   "cell_type": "code",
   "execution_count": 2,
   "metadata": {},
   "outputs": [],
   "source": [
    "def calc_logloss(y, y_pred):\n",
    "    ### ИЗМЕНЕНИЯ\n",
    "    y_pred = abs(y_pred - 1e-16)\n",
    "    ### КОНЕЦ ИЗМЕНЕНИЙ\n",
    "    err = - np.mean(y * np.log(y_pred) + (1.0 - y) * np.log(1.0 - y_pred))\n",
    "    return err"
   ]
  },
  {
   "cell_type": "code",
   "execution_count": 3,
   "metadata": {},
   "outputs": [
    {
     "data": {
      "text/plain": [
       "0.164252033486018"
      ]
     },
     "execution_count": 3,
     "metadata": {},
     "output_type": "execute_result"
    }
   ],
   "source": [
    "# Пример применения\n",
    "y1 = np.array([1, 0])\n",
    "y_pred1 = np.array([0.8, 0.1])\n",
    "calc_logloss(y1, y_pred1)"
   ]
  },
  {
   "cell_type": "code",
   "execution_count": 4,
   "metadata": {},
   "outputs": [
    {
     "data": {
      "text/plain": [
       "0.052680257828913134"
      ]
     },
     "execution_count": 4,
     "metadata": {},
     "output_type": "execute_result"
    }
   ],
   "source": [
    "# Плохой пример применения\n",
    "y1 = np.array([1, 0])\n",
    "y_pred1 = np.array([1, 0.1])\n",
    "calc_logloss(y1, y_pred1)"
   ]
  },
  {
   "cell_type": "markdown",
   "metadata": {},
   "source": [
    "### 2. Подберите аргументы функции eval_model для логистической регрессии таким образом, чтобы log loss был минимальным."
   ]
  },
  {
   "cell_type": "code",
   "execution_count": 5,
   "metadata": {},
   "outputs": [],
   "source": [
    "X = np.array([ [   1,    1,  500,    1],\n",
    "               [   1,    1,  700,    1],\n",
    "               [   1,    2,  750,    2],\n",
    "               [   1,    5,  600,    1],\n",
    "               [   1,    3, 1450,    2],\n",
    "               [   1,    0,  800,    1],\n",
    "               [   1,    5, 1500,    3],\n",
    "               [   1,   10, 2000,    3],\n",
    "               [   1,    1,  450,    1],\n",
    "               [   1,    2, 1000,    2]], dtype = np.float64)\n",
    "\n",
    "y = np.array([0, 0, 1, 0, 1, 0, 1, 0, 1, 1], dtype = np.float64)"
   ]
  },
  {
   "cell_type": "code",
   "execution_count": 6,
   "metadata": {},
   "outputs": [],
   "source": [
    "def sigmoid(x):\n",
    "    return 1/(1 + np.exp(-x))\n",
    "\n",
    "\n",
    "# стандартизация\n",
    "def std_scale(X, ddof=0):\n",
    "    mean = X.mean()\n",
    "    std = (sum((X - mean)**2)/(X.shape[0]-ddof))**(1/2)\n",
    "    return (X - mean)/std"
   ]
  },
  {
   "cell_type": "code",
   "execution_count": 7,
   "metadata": {},
   "outputs": [],
   "source": [
    "# стандартизация признаков\n",
    "X_std = X.copy().astype(np.float64)\n",
    "X_std[:, 1] = std_scale(X_std[:, 1])\n",
    "X_std[:, 2] = std_scale(X_std[:, 2])"
   ]
  },
  {
   "cell_type": "code",
   "execution_count": 8,
   "metadata": {},
   "outputs": [],
   "source": [
    "def eval_model(X, y, iterations, eta=1e-4):\n",
    "    np.random.seed(42)\n",
    "    W = np.random.randn(X.shape[1])\n",
    "    n = X.shape[0]\n",
    "    \n",
    "    for i in range(iterations):\n",
    "        z = np.dot(X, W)\n",
    "        y_pred = sigmoid(z)\n",
    "        err = calc_logloss(y, y_pred)\n",
    "        \n",
    "        dQ = 1/n * X.T @ (y_pred - y)\n",
    "        W -= eta * dQ\n",
    "        if i % (iterations / 10) == 0:\n",
    "            print(i, W, err)\n",
    "    return W"
   ]
  },
  {
   "cell_type": "code",
   "execution_count": 9,
   "metadata": {},
   "outputs": [
    {
     "name": "stdout",
     "output_type": "stream",
     "text": [
      "0 [ 0.49264598 -0.13935538  0.64759106  1.51705001] 1.3696877789393176\n",
      "10000 [-3.71598667 -1.76918281  0.21414146  2.22440225] 0.41523623845467983\n",
      "20000 [-5.80148748 -2.05585378 -0.36139765  3.45327472] 0.35167963404575103\n",
      "30000 [-7.28184208 -2.28046412 -0.75867997  4.3494258 ] 0.3194405198711246\n",
      "40000 [-8.4423199  -2.47365656 -1.05731851  5.06455632] 0.29952545963991384\n",
      "50000 [-9.41218385 -2.64340472 -1.30100906  5.66969833] 0.285547808143208\n",
      "60000 [-10.25805197  -2.79579611  -1.51061629   6.2021284 ] 0.2748738598125055\n",
      "70000 [-11.01770473  -2.93525218  -1.69712703   6.6832868 ] 0.266239118239767\n",
      "80000 [-11.71420346  -3.06484942  -1.86693301   7.12642307] 0.2589643029059558\n",
      "90000 [-12.36245884  -3.18672489  -2.0240544    7.54019871] 0.2526521651648525\n"
     ]
    }
   ],
   "source": [
    "W = eval_model(X_std, y, int(1e5), eta=1e-2)"
   ]
  },
  {
   "cell_type": "code",
   "execution_count": 10,
   "metadata": {},
   "outputs": [
    {
     "name": "stdout",
     "output_type": "stream",
     "text": [
      "0 [ 0.45603242 -0.14917513  0.64671373  1.46323139] 1.3696877789393176\n",
      "100000 [-38.1838505   -8.32379309  -7.92054892  24.07736088] 0.12693123785588026\n",
      "200000 [-50.96669956 -10.83407968 -10.78286909  32.19981402] 0.10205862840216058\n",
      "300000 [-59.89447229 -12.49999437 -12.83301097  37.85609196] 0.09012483845885685\n",
      "400000 [-67.17062681 -13.7798047  -14.55597042  42.4588893 ] 0.08223433152821821\n",
      "500000 [-73.53786059 -14.8379091  -16.10592935  46.48316529] 0.07620229664417488\n",
      "600000 [-79.32429222 -15.75572073 -17.5444838   50.13857134] 0.07122376184928339\n",
      "700000 [-84.69540446 -16.57973922 -18.89888742  53.53073858] 0.06693523307385704\n",
      "800000 [-89.74225092 -17.3375646  -20.18275853  56.71769833] 0.06314916910820423\n",
      "900000 [-94.51922257 -18.04568331 -21.40424122  59.73404837] 0.05975726620055116\n"
     ]
    },
    {
     "data": {
      "text/plain": [
       "array([-99.06176016, -18.7141119 , -22.56914288,  62.60228745])"
      ]
     },
     "execution_count": 10,
     "metadata": {},
     "output_type": "execute_result"
    }
   ],
   "source": [
    "eval_model(X_std, y, int(1e6), eta=1e-1)"
   ]
  },
  {
   "cell_type": "code",
   "execution_count": 11,
   "metadata": {},
   "outputs": [
    {
     "name": "stdout",
     "output_type": "stream",
     "text": [
      "0 [ 0.08989678 -0.24737262  0.63794047  0.92504521] 1.3696877789393176\n",
      "100000 [-99.0631494  -18.71431584 -22.56949948  62.60316463] 0.0566894556581596\n",
      "200000 [-135.37477214  -24.02479765  -31.90338405   85.53125301] 0.036844301939377745\n",
      "300000 [-161.21439295  -27.81705943  -38.53603458  101.84815861] 0.0268495391079561\n",
      "400000 [-181.07113469  -30.74097931  -43.62616496  114.38760117] 0.02096281798827271\n",
      "500000 [-197.11320217  -33.10821956  -47.73490202  124.51836332] 0.017126206481658784\n",
      "600000 [-210.53249633  -35.09131352  -51.1698649   132.99296381] 0.014443898450754767\n",
      "700000 [-222.04659488  -36.79464848  -54.11589464  140.26448176] 0.01247026196586507\n",
      "800000 [-232.11813577  -38.28576095  -56.69199729  146.62504011] 0.01096075298259729\n",
      "900000 [-241.06160617  -39.61067925  -58.97898613  152.27322158] 0.009770769623888441\n"
     ]
    },
    {
     "data": {
      "text/plain": [
       "array([-249.09986201,  -40.80208545,  -61.03408263,  157.34975189])"
      ]
     },
     "execution_count": 11,
     "metadata": {},
     "output_type": "execute_result"
    }
   ],
   "source": [
    "eval_model(X_std, y, int(1e6), eta=1)"
   ]
  },
  {
   "cell_type": "code",
   "execution_count": 12,
   "metadata": {},
   "outputs": [
    {
     "name": "stdout",
     "output_type": "stream",
     "text": [
      "0 [-40.1850229  -11.04909639  -0.32711782 -58.27543437] 1.3696877789393176\n",
      "1000000 [-607.01723064  -94.03612205 -152.41098723  383.40046274] 8.098327262986722e-05\n",
      "2000000 [-657.51174407 -101.55275476 -165.29778544  415.29172382] 4.167622126797314e-05\n",
      "3000000 [-687.58730814 -106.02986765 -172.97338859  434.28681327] 2.8056790046741146e-05\n",
      "4000000 [-709.07936621 -109.22923668 -178.45837918  447.86074282] 2.1146114711120123e-05\n",
      "5000000 [-725.81470169 -111.7205129  -182.7294015   458.43042727] 1.6966892254895212e-05\n",
      "6000000 [-739.52192049 -113.76101724 -186.22761627  467.08761734] 1.4166955439261842e-05\n",
      "7000000 [-751.13072391 -115.48914612 -189.19029376  474.41949264] 1.2160212259461446e-05\n",
      "8000000 [-761.19910032 -116.98796266 -191.75983869  480.77846681] 1.0651429773025204e-05\n",
      "9000000 [-770.08837432 -118.31125441 -194.02846493  486.39274481] 9.475719478747403e-06\n"
     ]
    },
    {
     "data": {
      "text/plain": [
       "array([-778.04597625, -119.49585444, -196.05931929,  491.41859841])"
      ]
     },
     "execution_count": 12,
     "metadata": {},
     "output_type": "execute_result"
    }
   ],
   "source": [
    "eval_model(X_std, y, int(1e7), eta=1e2)"
   ]
  },
  {
   "cell_type": "markdown",
   "metadata": {},
   "source": [
    "### 3. Создайте функцию calc_pred_proba, возвращающую предсказанную вероятность класса 1 (на вход подаются W, который уже посчитан функцией eval_model и X, на выходе - массив y_pred_proba)."
   ]
  },
  {
   "cell_type": "code",
   "execution_count": 13,
   "metadata": {},
   "outputs": [],
   "source": [
    "def calc_pred_proba(W, X):\n",
    "    y_pred_proba = sigmoid(X @ W)\n",
    "    return y_pred_proba"
   ]
  },
  {
   "cell_type": "code",
   "execution_count": 14,
   "metadata": {},
   "outputs": [
    {
     "data": {
      "text/plain": [
       "array([0.35892525, 0.18610117, 0.99371639, 0.00334129, 0.68171061,\n",
       "       0.31957259, 0.99783492, 0.12526593, 0.41189101, 0.98099967])"
      ]
     },
     "execution_count": 14,
     "metadata": {},
     "output_type": "execute_result"
    }
   ],
   "source": [
    "calc_pred_proba(W, X_std)"
   ]
  },
  {
   "cell_type": "markdown",
   "metadata": {},
   "source": [
    "### 4. Создайте функцию calc_pred, возвращающую предсказанный класс (на вход подаются W, который уже посчитан функцией eval_model и X, на выходе - массив y_pred)."
   ]
  },
  {
   "cell_type": "code",
   "execution_count": 15,
   "metadata": {},
   "outputs": [],
   "source": [
    "def calc_pred(W, X):\n",
    "    y_pred = np.round(sigmoid(X @ W))\n",
    "    return y_pred"
   ]
  },
  {
   "cell_type": "code",
   "execution_count": 16,
   "metadata": {},
   "outputs": [
    {
     "data": {
      "text/plain": [
       "array([0., 0., 1., 0., 1., 0., 1., 0., 0., 1.])"
      ]
     },
     "execution_count": 16,
     "metadata": {},
     "output_type": "execute_result"
    }
   ],
   "source": [
    "calc_pred(W, X_std)"
   ]
  },
  {
   "cell_type": "code",
   "execution_count": 17,
   "metadata": {},
   "outputs": [
    {
     "data": {
      "text/plain": [
       "array([0., 0., 1., 0., 1., 0., 1., 0., 1., 1.])"
      ]
     },
     "execution_count": 17,
     "metadata": {},
     "output_type": "execute_result"
    }
   ],
   "source": [
    "y"
   ]
  },
  {
   "cell_type": "markdown",
   "metadata": {},
   "source": [
    "### 5. *Реализуйте функции для подсчета Accuracy, матрицы ошибок, точности и полноты, а также F1 score."
   ]
  },
  {
   "cell_type": "code",
   "execution_count": 18,
   "metadata": {},
   "outputs": [],
   "source": [
    "# В функциях к знаменателям прибавлены очень малые величины - во избежание деления на ноль\n",
    "\n",
    "def calc_accuracy(y, y_pred):\n",
    "    if not isinstance(y, (np.ndarray, list)) or not isinstance(y_pred, (np.ndarray, list)):\n",
    "        raise TypeError('input must be a numpy.ndarray or list')\n",
    "    else:\n",
    "        y, y_pred = np.array(y), np.array(y_pred)\n",
    "        if y.shape != y_pred.shape:\n",
    "            raise ValueError(f'shape mismatch: \"y\" has shape {y.shape} and \"y_pred\" has shape {y_pred.shape}')\n",
    "        else:\n",
    "            return sum(y == y_pred)/(y.shape[0] + 1e-16)\n",
    "    \n",
    "\n",
    "def get_confusion_matrix(y, y_pred):\n",
    "    if not isinstance(y, (np.ndarray, list)) or not isinstance(y_pred, (np.ndarray, list)):\n",
    "        raise TypeError('input must be a numpy.ndarray or list')\n",
    "    else:\n",
    "        y, y_pred = np.array(y), np.array(y_pred)\n",
    "        if y.shape != y_pred.shape:\n",
    "            raise ValueError(f'shape mismatch: \"y\" has shape {y.shape} and \"y_pred\" has shape {y_pred.shape}')\n",
    "        else:\n",
    "            TP = sum((y == 1) & (y_pred == 1))\n",
    "            FP = sum((y == 0) & (y_pred == 1))\n",
    "            FN = sum((y == 1) & (y_pred == 0))\n",
    "            TN = sum((y == 0) & (y_pred == 0))\n",
    "            return np.array([[TP, FP], [FN, TN]])\n",
    "\n",
    "    \n",
    "def calc_precision(y, y_pred):\n",
    "    if not isinstance(y, (np.ndarray, list)) or not isinstance(y_pred, (np.ndarray, list)):\n",
    "        raise TypeError('input must be a numpy.ndarray or list')\n",
    "    else:\n",
    "        y, y_pred = np.array(y), np.array(y_pred)\n",
    "        if y.shape != y_pred.shape:\n",
    "            raise ValueError(f'shape mismatch: \"y\" has shape {y.shape} and \"y_pred\" has shape {y_pred.shape}')\n",
    "        else:\n",
    "            TP = sum((y == 1) & (y_pred == 1))\n",
    "            FP = sum((y == 0) & (y_pred == 1))\n",
    "            return TP/(TP + FP + 1e-16)\n",
    "\n",
    "    \n",
    "def calc_recall(y, y_pred):\n",
    "    if not isinstance(y, (np.ndarray, list)) or not isinstance(y_pred, (np.ndarray, list)):\n",
    "        raise TypeError('input must be a numpy.ndarray or list')\n",
    "    else:\n",
    "        y, y_pred = np.array(y), np.array(y_pred)\n",
    "        if y.shape != y_pred.shape:\n",
    "            raise ValueError(f'shape mismatch: \"y\" has shape {y.shape} and \"y_pred\" has shape {y_pred.shape}')\n",
    "        else:\n",
    "            TP = sum((y == 1) & (y_pred == 1))\n",
    "            FN = sum((y == 1) & (y_pred == 0))\n",
    "            return TP/(TP + FN + 1e-16)\n",
    "    \n",
    "    \n",
    "def calc_f1(y, y_pred):\n",
    "    precision = calc_precision(y, y_pred)\n",
    "    recall = calc_recall(y, y_pred)\n",
    "    return 2/(precision + recall + 1e-16) * precision * recall"
   ]
  },
  {
   "cell_type": "markdown",
   "metadata": {},
   "source": [
    "Проверка"
   ]
  },
  {
   "cell_type": "code",
   "execution_count": 19,
   "metadata": {},
   "outputs": [],
   "source": [
    "from sklearn.metrics import accuracy_score, precision_score, recall_score, f1_score, confusion_matrix"
   ]
  },
  {
   "cell_type": "code",
   "execution_count": 20,
   "metadata": {},
   "outputs": [],
   "source": [
    "a = np.array([0., 1., 0., 1., 0., 0., 1.])\n",
    "b = np.array([1, 1, 1, 0, 0, 1, 1])\n",
    "\n",
    "# a = np.zeros(7)\n",
    "# b = np.zeros(7)\n",
    "\n",
    "# a = []\n",
    "# b = []"
   ]
  },
  {
   "cell_type": "code",
   "execution_count": 21,
   "metadata": {},
   "outputs": [
    {
     "data": {
      "text/plain": [
       "(0.42857142857142855, 0.42857142857142855)"
      ]
     },
     "execution_count": 21,
     "metadata": {},
     "output_type": "execute_result"
    }
   ],
   "source": [
    "accuracy_score(a, b), calc_accuracy(a, b)"
   ]
  },
  {
   "cell_type": "code",
   "execution_count": 22,
   "metadata": {},
   "outputs": [
    {
     "data": {
      "text/plain": [
       "(array([[1, 3],\n",
       "        [1, 2]]),\n",
       " array([[2, 3],\n",
       "        [1, 1]]))"
      ]
     },
     "execution_count": 22,
     "metadata": {},
     "output_type": "execute_result"
    }
   ],
   "source": [
    "confusion_matrix(a, b), get_confusion_matrix(a, b)"
   ]
  },
  {
   "cell_type": "code",
   "execution_count": 23,
   "metadata": {},
   "outputs": [
    {
     "data": {
      "text/plain": [
       "(0.4, 0.4)"
      ]
     },
     "execution_count": 23,
     "metadata": {},
     "output_type": "execute_result"
    }
   ],
   "source": [
    "precision_score(a, b), calc_precision(a, b)"
   ]
  },
  {
   "cell_type": "code",
   "execution_count": 24,
   "metadata": {},
   "outputs": [
    {
     "data": {
      "text/plain": [
       "(0.6666666666666666, 0.6666666666666666)"
      ]
     },
     "execution_count": 24,
     "metadata": {},
     "output_type": "execute_result"
    }
   ],
   "source": [
    "recall_score(a, b), calc_recall(a, b)"
   ]
  },
  {
   "cell_type": "code",
   "execution_count": 25,
   "metadata": {},
   "outputs": [
    {
     "data": {
      "text/plain": [
       "(0.5, 0.5)"
      ]
     },
     "execution_count": 25,
     "metadata": {},
     "output_type": "execute_result"
    }
   ],
   "source": [
    "f1_score(a, b), calc_f1(a, b)"
   ]
  },
  {
   "cell_type": "markdown",
   "metadata": {},
   "source": [
    "###  6. Могла ли модель переобучиться? Почему?"
   ]
  },
  {
   "cell_type": "markdown",
   "metadata": {},
   "source": [
    "У модели были все шансы переобучиться. \n",
    "\n",
    "Из-за малого количества наблюдений у модели плохая обобщающая способность. \n",
    "\n",
    "Коэффициенты подбираются таким образом, чтобы увеличить расстояние от наблюдений до разделяющей гиперплоскости (ф-ция потерь logloss). Т.е. она будет построена так, что будет лучше всего разделять только эти наблюдения. "
   ]
  }
 ],
 "metadata": {
  "kernelspec": {
   "display_name": "Python 3",
   "language": "python",
   "name": "python3"
  },
  "language_info": {
   "codemirror_mode": {
    "name": "ipython",
    "version": 3
   },
   "file_extension": ".py",
   "mimetype": "text/x-python",
   "name": "python",
   "nbconvert_exporter": "python",
   "pygments_lexer": "ipython3",
   "version": "3.8.5"
  }
 },
 "nbformat": 4,
 "nbformat_minor": 4
}
