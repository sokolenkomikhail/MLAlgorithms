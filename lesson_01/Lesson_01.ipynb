{
 "cells": [
  {
   "cell_type": "code",
   "execution_count": 1,
   "metadata": {},
   "outputs": [],
   "source": [
    "import numpy as np"
   ]
  },
  {
   "cell_type": "code",
   "execution_count": 2,
   "metadata": {},
   "outputs": [],
   "source": [
    "X = np.array([[ 1,  1],\n",
    "              [ 1,  1],\n",
    "              [ 1,  2],\n",
    "              [ 1,  5],\n",
    "              [ 1,  3],\n",
    "              [ 1,  0],\n",
    "              [ 1,  5],\n",
    "              [ 1, 10],\n",
    "              [ 1,  1],\n",
    "              [ 1,  2]])\n",
    "\n",
    "y = [45, 55, 50, 55, 60, 35, 75, 80, 50, 60]\n",
    "\n",
    "\n",
    "def calc_mse(y, y_pred):\n",
    "    err = np.mean((y - y_pred)**2)\n",
    "    return err"
   ]
  },
  {
   "cell_type": "markdown",
   "metadata": {},
   "source": [
    "### 1. Подберите скорость обучения (eta) и количество итераций"
   ]
  },
  {
   "cell_type": "code",
   "execution_count": 3,
   "metadata": {},
   "outputs": [
    {
     "name": "stdout",
     "output_type": "stream",
     "text": [
      "Number of objects = 2        \n",
      "Learning rate = 0.01        \n",
      "Initial weights = [1.  0.5] \n",
      "\n",
      "Iteration #0: W_new = [ 6.4  19.35], MSE = 3047.75\n",
      "Iteration #100: W_new = [44.6667805   3.88425763], MSE = 44.05\n",
      "Iteration #200: W_new = [45.05841386  3.81324096], MSE = 43.97\n",
      "Iteration #300: W_new = [45.06245581  3.81250801], MSE = 43.97\n",
      "Iteration #400: W_new = [45.0624995   3.81250009], MSE = 43.97\n",
      "Iteration #500: W_new = [45.06249999  3.8125    ], MSE = 43.97\n",
      "Iteration #600: W_new = [45.0625  3.8125], MSE = 43.97\n"
     ]
    }
   ],
   "source": [
    "n = X.shape[1]\n",
    "\n",
    "eta = 1e-2\n",
    "n_iter = 601\n",
    "\n",
    "W = np.array([1., 0.5])\n",
    "print(f'Number of objects = {n} \\\n",
    "       \\nLearning rate = {eta} \\\n",
    "       \\nInitial weights = {W} \\n')\n",
    "\n",
    "for i in range(n_iter):\n",
    "    y_pred = np.dot(X, W)\n",
    "    err = calc_mse(y, y_pred)\n",
    "    for k in range(W.shape[0]):\n",
    "        W[k] -= eta * (1/n * 2 * X[:, k] @ (y_pred - y))\n",
    "    if i % 100 == 0:\n",
    "        eta /= 1.01\n",
    "        print(f'Iteration #{i}: W_new = {W}, MSE = {round(err, 2)}')"
   ]
  },
  {
   "cell_type": "markdown",
   "metadata": {},
   "source": [
    "### 2*. В этом коде мы избавляемся от итераций по весам, но тут есть ошибка, исправьте ее"
   ]
  },
  {
   "cell_type": "code",
   "execution_count": 4,
   "metadata": {},
   "outputs": [
    {
     "name": "stdout",
     "output_type": "stream",
     "text": [
      "Number of objects = 2        \n",
      "Learning rate = 0.01        \n",
      "Initial weights = [1.  0.5] \n",
      "\n",
      "Iteration #0: W_new = [ 6.4  19.35], MSE = 3047.75\n",
      "Iteration #10: W_new = [19.96966932  8.87179137], MSE = 379.6\n",
      "Iteration #20: W_new = [29.27719328  6.70531799], MSE = 172.93\n",
      "Iteration #30: W_new = [35.16120834  5.60976141], MSE = 94.66\n",
      "Iteration #40: W_new = [38.85365942  4.93848587], MSE = 63.9\n",
      "Iteration #50: W_new = [41.16920131  4.51849616], MSE = 51.81\n",
      "Iteration #60: W_new = [42.62118483  4.25519525], MSE = 47.05\n",
      "Iteration #70: W_new = [43.53165976  4.0900943 ], MSE = 45.18\n",
      "Iteration #80: W_new = [44.10257814  3.98656703], MSE = 44.45\n",
      "Iteration #90: W_new = [44.46057568  3.9216497 ], MSE = 44.16\n",
      "Iteration #100: W_new = [44.68506002  3.88094292], MSE = 44.04\n",
      "Iteration #110: W_new = [44.82582417  3.85541751], MSE = 44.0\n",
      "Iteration #120: W_new = [44.91409111  3.83941166], MSE = 43.98\n",
      "Iteration #130: W_new = [44.96943938  3.82937511], MSE = 43.97\n",
      "Iteration #140: W_new = [45.00414582  3.82308163], MSE = 43.97\n",
      "Iteration #150: W_new = [45.02590869  3.81913527], MSE = 43.97\n",
      "Iteration #160: W_new = [45.03955522  3.81666068], MSE = 43.97\n",
      "Iteration #170: W_new = [45.04811235  3.81510898], MSE = 43.97\n",
      "Iteration #180: W_new = [45.05347814  3.81413597], MSE = 43.97\n",
      "Iteration #190: W_new = [45.05684279  3.81352585], MSE = 43.97\n",
      "Iteration #200: W_new = [45.05895262  3.81314326], MSE = 43.97\n",
      "Iteration #210: W_new = [45.06027559  3.81290336], MSE = 43.97\n",
      "Iteration #220: W_new = [45.06110517  3.81275293], MSE = 43.97\n",
      "Iteration #230: W_new = [45.06162537  3.8126586 ], MSE = 43.97\n",
      "Iteration #240: W_new = [45.06195156  3.81259945], MSE = 43.97\n",
      "Iteration #250: W_new = [45.0621561   3.81256236], MSE = 43.97\n",
      "Iteration #260: W_new = [45.06228435  3.8125391 ], MSE = 43.97\n",
      "Iteration #270: W_new = [45.06236478  3.81252452], MSE = 43.97\n",
      "Iteration #280: W_new = [45.06241521  3.81251538], MSE = 43.97\n",
      "Iteration #290: W_new = [45.06244683  3.81250964], MSE = 43.97\n",
      "Iteration #300: W_new = [45.06246666  3.81250605], MSE = 43.97\n",
      "Iteration #310: W_new = [45.06247909  3.81250379], MSE = 43.97\n",
      "Iteration #320: W_new = [45.06248689  3.81250238], MSE = 43.97\n",
      "Iteration #330: W_new = [45.06249178  3.81250149], MSE = 43.97\n",
      "Iteration #340: W_new = [45.06249485  3.81250093], MSE = 43.97\n",
      "Iteration #350: W_new = [45.06249677  3.81250059], MSE = 43.97\n",
      "Iteration #360: W_new = [45.06249797  3.81250037], MSE = 43.97\n",
      "Iteration #370: W_new = [45.06249873  3.81250023], MSE = 43.97\n",
      "Iteration #380: W_new = [45.0624992   3.81250014], MSE = 43.97\n",
      "Iteration #390: W_new = [45.0624995   3.81250009], MSE = 43.97\n",
      "Iteration #400: W_new = [45.06249969  3.81250006], MSE = 43.97\n",
      "Iteration #410: W_new = [45.0624998   3.81250004], MSE = 43.97\n",
      "Iteration #420: W_new = [45.06249988  3.81250002], MSE = 43.97\n",
      "Iteration #430: W_new = [45.06249992  3.81250001], MSE = 43.97\n",
      "Iteration #440: W_new = [45.06249995  3.81250001], MSE = 43.97\n",
      "Iteration #450: W_new = [45.06249997  3.81250001], MSE = 43.97\n",
      "Iteration #460: W_new = [45.06249998  3.8125    ], MSE = 43.97\n",
      "Iteration #470: W_new = [45.06249999  3.8125    ], MSE = 43.97\n",
      "Iteration #480: W_new = [45.06249999  3.8125    ], MSE = 43.97\n",
      "Iteration #490: W_new = [45.0625  3.8125], MSE = 43.97\n"
     ]
    }
   ],
   "source": [
    "n = X.shape[1]\n",
    "\n",
    "eta = 1e-2 \n",
    "n_iter = 500\n",
    "\n",
    "W = np.array([1., 0.5])\n",
    "print(f'Number of objects = {n} \\\n",
    "       \\nLearning rate = {eta} \\\n",
    "       \\nInitial weights = {W} \\n')\n",
    "\n",
    "for i in range(n_iter):\n",
    "    y_pred = np.dot(X, W)\n",
    "    err = calc_mse(y, y_pred)\n",
    "#     for k in range(W.shape[0]):\n",
    "#         W[k] -= eta * (1/n * 2 * X[:, k] @ (y_pred - y))\n",
    "    # W -= eta * (1/n * 2 * np.dot(X, y_pred - y))\n",
    "    # ИЗМЕНЕНИЯ\n",
    "    W -= eta * (1/n * 2 * np.dot(X.T, y_pred - y))\n",
    "    # ОКОНЧАНИЕ ИЗМЕНЕНИЙ\n",
    "    if i % 10 == 0:\n",
    "        print(f'Iteration #{i}: W_new = {W}, MSE = {round(err,2)}')"
   ]
  },
  {
   "cell_type": "markdown",
   "metadata": {},
   "source": [
    "### 3*. Вместо того, чтобы задавать количество итераций, задайте другое условие останова алгоритма - когда веса перестают изменяться меньше определенного порога 𝜖\n",
    "."
   ]
  },
  {
   "cell_type": "code",
   "execution_count": 5,
   "metadata": {},
   "outputs": [
    {
     "name": "stdout",
     "output_type": "stream",
     "text": [
      "Number of objects = 2        \n",
      "Learning rate = 0.01        \n",
      "Initial weights = [0. 0.] \n",
      "\n",
      "Weights: [45.0625  3.8125], MSE = 43.97\n"
     ]
    }
   ],
   "source": [
    "n = X.shape[1]\n",
    "\n",
    "eta = 1e-2\n",
    "\n",
    "W = np.zeros(2)\n",
    "print(f'Number of objects = {n} \\\n",
    "       \\nLearning rate = {eta} \\\n",
    "       \\nInitial weights = {W} \\n')\n",
    "\n",
    "\n",
    "min_weight_dist = 1e-12\n",
    "weight_dist = np.inf\n",
    "\n",
    "while weight_dist > min_weight_dist:\n",
    "    y_pred = X @ W\n",
    "    new_w = W - eta * (2 * X.T @ (y_pred - y))/n\n",
    "    weight_dist = np.linalg.norm(new_w - W, ord=2)\n",
    "    W = new_w\n",
    "    if weight_dist > 1/min_weight_dist:\n",
    "        print(f'Алгоритм разошелся {W}')\n",
    "        break\n",
    "else:\n",
    "    print(f'Weights: {W}, MSE = {round(calc_mse(y, y_pred), 2)}')"
   ]
  }
 ],
 "metadata": {
  "kernelspec": {
   "display_name": "Python 3",
   "language": "python",
   "name": "python3"
  },
  "language_info": {
   "codemirror_mode": {
    "name": "ipython",
    "version": 3
   },
   "file_extension": ".py",
   "mimetype": "text/x-python",
   "name": "python",
   "nbconvert_exporter": "python",
   "pygments_lexer": "ipython3",
   "version": "3.8.5"
  }
 },
 "nbformat": 4,
 "nbformat_minor": 4
}
